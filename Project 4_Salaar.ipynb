{
 "cells": [
  {
   "cell_type": "code",
   "execution_count": null,
   "metadata": {},
   "outputs": [],
   "source": [
    "# Project 4: English Premier League Dataset"
   ]
  },
  {
   "cell_type": "code",
   "execution_count": null,
   "metadata": {},
   "outputs": [],
   "source": [
    "# Problem Statement & Business Question:"
   ]
  },
  {
   "cell_type": "code",
   "execution_count": null,
   "metadata": {},
   "outputs": [],
   "source": [
    "# You are a scout for a European soccer club. Your primary responsibility is to pinpoint the best up and coming \n",
    "# players in the game so that your club can beat out the competition and acquire the best talent to stay ahead. Your \n",
    "# club has scouts assigned to each region, and has decided to appoint you in charge of Europe, specifically the \n",
    "# Enlgish Premier League (EPL). Due to increased commercialization and an unprecedented amount of money flowing into \n",
    "# the game, the competition for scouting top talent has never been more intense. You have to make use of the English \n",
    "# Premier League dataset in order to accmomplish this task. Use this data to find the most highly valued players in\n",
    "# order to scout players in the future. What common characteristics do they share? What are the driving factors behind\n",
    "# their high market value? Which factor impacts market value the most? What is the average market value? What is the \n",
    "# difference in value between foreign and local players? How much of a factor is age? Which position has the most high\n",
    "# valued players? What is the difference between the value of a player who plays for a big club (top 6 clubs) vs one \n",
    "# who plays for a small club? Build and test a model to analyze the data. Interpret your results and communicate\n",
    "# your findings."
   ]
  },
  {
   "cell_type": "code",
   "execution_count": null,
   "metadata": {},
   "outputs": [],
   "source": [
    "# Limitations of Dataset:\n",
    "# 1- No data on player stats such as goals, assists, tackles, interceptions etc to assess performance and its impact on\n",
    "#   market value; best inputs/factors closest to stats are fpl_points, fpl_sel, and fpl_value\n",
    "# 2- Dataset is a snapshot in time as it does not provide data over a 10 year period for example; this prevents trend \n",
    "#   analysis to analyze a player's market value over time for instance (e.g from the age of 20 to 30)\n",
    "# 3- Dataset is focused on English Premier League only; can't compare to other leagues. This means we can only infer\n",
    "#  these inputs influence market value the way they do only for players in the English Premier League e.g. do 'big\n",
    "#  clubs' have the same clout, financial strength, and popularity in other leagues?"
   ]
  },
  {
   "cell_type": "code",
   "execution_count": null,
   "metadata": {},
   "outputs": [],
   "source": [
    "# Dataset Key\n",
    "\n",
    "# name: Name of the player\n",
    "\n",
    "# club: Club of the player\n",
    "\n",
    "# age : Age of the player\n",
    "\n",
    "# position : The usual position on the pitch\n",
    "\n",
    "# position_cat :\n",
    "\n",
    "# 1 for attackers\n",
    "# 2 for midfielders\n",
    "# 3 for defenders\n",
    "# 4 for goalkeepers\n",
    "# market_value : As on transfermrkt.com on July 20th, 2017\n",
    "\n",
    "# page_views : Average daily Wikipedia page views from September 1, 2016 to May 1, 2017\n",
    "\n",
    "# fpl_value : Value in Fantasy Premier League as on July 20th, 2017\n",
    "\n",
    "# fpl_sel : % of FPL players who have selected that player in their team\n",
    "\n",
    "# fpl_points : FPL points accumulated over the previous season\n",
    "\n",
    "# region:\n",
    "\n",
    "# 1 for England\n",
    "# 2 for EU\n",
    "# 3 for Americas\n",
    "# 4 for Rest of World\n",
    "\n",
    "# nationality\n",
    "\n",
    "# new_foreign : Whether a new signing from a different league, for 2017/18 (till 20th July)\n",
    "\n",
    "# age_cat:\n",
    "\n",
    "# 1 for <21\n",
    "# 2 for 22-24\n",
    "# 3 for 25-27\n",
    "# 4 for 28-30\n",
    "# 5 for 31-33\n",
    "# 6 for 34+\n",
    "\n",
    "# club_id\n",
    "\n",
    "# big_club: Whether one of the Top 6 clubs (Arsenal, Liverpool, Manchester United, Manchester City, Chelsea, Tottenham)\n",
    "\n",
    "# new_signing: Whether a new signing for 2017/18 (till 20th July)"
   ]
  },
  {
   "cell_type": "code",
   "execution_count": 1,
   "metadata": {},
   "outputs": [],
   "source": [
    "import pandas as pd\n",
    "import matplotlib.pyplot as plt\n",
    "import seaborn as sns\n",
    "%matplotlib inline"
   ]
  },
  {
   "cell_type": "code",
   "execution_count": 4,
   "metadata": {},
   "outputs": [],
   "source": [
    "epldata = pd.read_csv('epldata_final.csv')"
   ]
  },
  {
   "cell_type": "code",
   "execution_count": 5,
   "metadata": {},
   "outputs": [
    {
     "data": {
      "text/plain": [
       "(461, 17)"
      ]
     },
     "execution_count": 5,
     "metadata": {},
     "output_type": "execute_result"
    }
   ],
   "source": [
    "epldata.shape"
   ]
  },
  {
   "cell_type": "code",
   "execution_count": 98,
   "metadata": {},
   "outputs": [
    {
     "data": {
      "text/plain": [
       "(461, 17)"
      ]
     },
     "execution_count": 98,
     "metadata": {},
     "output_type": "execute_result"
    }
   ],
   "source": [
    "epldata.shape"
   ]
  },
  {
   "cell_type": "code",
   "execution_count": 52,
   "metadata": {},
   "outputs": [
    {
     "data": {
      "text/html": [
       "<div>\n",
       "<style scoped>\n",
       "    .dataframe tbody tr th:only-of-type {\n",
       "        vertical-align: middle;\n",
       "    }\n",
       "\n",
       "    .dataframe tbody tr th {\n",
       "        vertical-align: top;\n",
       "    }\n",
       "\n",
       "    .dataframe thead th {\n",
       "        text-align: right;\n",
       "    }\n",
       "</style>\n",
       "<table border=\"1\" class=\"dataframe\">\n",
       "  <thead>\n",
       "    <tr style=\"text-align: right;\">\n",
       "      <th></th>\n",
       "      <th>name</th>\n",
       "      <th>club</th>\n",
       "      <th>age</th>\n",
       "      <th>position</th>\n",
       "      <th>position_cat</th>\n",
       "      <th>market_value</th>\n",
       "      <th>page_views</th>\n",
       "      <th>fpl_value</th>\n",
       "      <th>fpl_sel</th>\n",
       "      <th>fpl_points</th>\n",
       "      <th>region</th>\n",
       "      <th>nationality</th>\n",
       "      <th>new_foreign</th>\n",
       "      <th>age_cat</th>\n",
       "      <th>club_id</th>\n",
       "      <th>big_club</th>\n",
       "      <th>new_signing</th>\n",
       "    </tr>\n",
       "  </thead>\n",
       "  <tbody>\n",
       "    <tr>\n",
       "      <th>0</th>\n",
       "      <td>Alexis Sanchez</td>\n",
       "      <td>Arsenal</td>\n",
       "      <td>28</td>\n",
       "      <td>LW</td>\n",
       "      <td>1</td>\n",
       "      <td>65.0</td>\n",
       "      <td>4329</td>\n",
       "      <td>12.0</td>\n",
       "      <td>17.10%</td>\n",
       "      <td>264</td>\n",
       "      <td>3.0</td>\n",
       "      <td>Chile</td>\n",
       "      <td>0</td>\n",
       "      <td>4</td>\n",
       "      <td>1</td>\n",
       "      <td>1</td>\n",
       "      <td>0</td>\n",
       "    </tr>\n",
       "    <tr>\n",
       "      <th>1</th>\n",
       "      <td>Mesut Ozil</td>\n",
       "      <td>Arsenal</td>\n",
       "      <td>28</td>\n",
       "      <td>AM</td>\n",
       "      <td>1</td>\n",
       "      <td>50.0</td>\n",
       "      <td>4395</td>\n",
       "      <td>9.5</td>\n",
       "      <td>5.60%</td>\n",
       "      <td>167</td>\n",
       "      <td>2.0</td>\n",
       "      <td>Germany</td>\n",
       "      <td>0</td>\n",
       "      <td>4</td>\n",
       "      <td>1</td>\n",
       "      <td>1</td>\n",
       "      <td>0</td>\n",
       "    </tr>\n",
       "    <tr>\n",
       "      <th>2</th>\n",
       "      <td>Petr Cech</td>\n",
       "      <td>Arsenal</td>\n",
       "      <td>35</td>\n",
       "      <td>GK</td>\n",
       "      <td>4</td>\n",
       "      <td>7.0</td>\n",
       "      <td>1529</td>\n",
       "      <td>5.5</td>\n",
       "      <td>5.90%</td>\n",
       "      <td>134</td>\n",
       "      <td>2.0</td>\n",
       "      <td>Czech Republic</td>\n",
       "      <td>0</td>\n",
       "      <td>6</td>\n",
       "      <td>1</td>\n",
       "      <td>1</td>\n",
       "      <td>0</td>\n",
       "    </tr>\n",
       "    <tr>\n",
       "      <th>3</th>\n",
       "      <td>Theo Walcott</td>\n",
       "      <td>Arsenal</td>\n",
       "      <td>28</td>\n",
       "      <td>RW</td>\n",
       "      <td>1</td>\n",
       "      <td>20.0</td>\n",
       "      <td>2393</td>\n",
       "      <td>7.5</td>\n",
       "      <td>1.50%</td>\n",
       "      <td>122</td>\n",
       "      <td>1.0</td>\n",
       "      <td>England</td>\n",
       "      <td>0</td>\n",
       "      <td>4</td>\n",
       "      <td>1</td>\n",
       "      <td>1</td>\n",
       "      <td>0</td>\n",
       "    </tr>\n",
       "    <tr>\n",
       "      <th>4</th>\n",
       "      <td>Laurent Koscielny</td>\n",
       "      <td>Arsenal</td>\n",
       "      <td>31</td>\n",
       "      <td>CB</td>\n",
       "      <td>3</td>\n",
       "      <td>22.0</td>\n",
       "      <td>912</td>\n",
       "      <td>6.0</td>\n",
       "      <td>0.70%</td>\n",
       "      <td>121</td>\n",
       "      <td>2.0</td>\n",
       "      <td>France</td>\n",
       "      <td>0</td>\n",
       "      <td>4</td>\n",
       "      <td>1</td>\n",
       "      <td>1</td>\n",
       "      <td>0</td>\n",
       "    </tr>\n",
       "    <tr>\n",
       "      <th>5</th>\n",
       "      <td>Hector Bellerin</td>\n",
       "      <td>Arsenal</td>\n",
       "      <td>22</td>\n",
       "      <td>RB</td>\n",
       "      <td>3</td>\n",
       "      <td>30.0</td>\n",
       "      <td>1675</td>\n",
       "      <td>6.0</td>\n",
       "      <td>13.70%</td>\n",
       "      <td>119</td>\n",
       "      <td>2.0</td>\n",
       "      <td>Spain</td>\n",
       "      <td>0</td>\n",
       "      <td>2</td>\n",
       "      <td>1</td>\n",
       "      <td>1</td>\n",
       "      <td>0</td>\n",
       "    </tr>\n",
       "    <tr>\n",
       "      <th>6</th>\n",
       "      <td>Olivier Giroud</td>\n",
       "      <td>Arsenal</td>\n",
       "      <td>30</td>\n",
       "      <td>CF</td>\n",
       "      <td>1</td>\n",
       "      <td>22.0</td>\n",
       "      <td>2230</td>\n",
       "      <td>8.5</td>\n",
       "      <td>2.50%</td>\n",
       "      <td>116</td>\n",
       "      <td>2.0</td>\n",
       "      <td>France</td>\n",
       "      <td>0</td>\n",
       "      <td>4</td>\n",
       "      <td>1</td>\n",
       "      <td>1</td>\n",
       "      <td>0</td>\n",
       "    </tr>\n",
       "    <tr>\n",
       "      <th>7</th>\n",
       "      <td>Nacho Monreal</td>\n",
       "      <td>Arsenal</td>\n",
       "      <td>31</td>\n",
       "      <td>LB</td>\n",
       "      <td>3</td>\n",
       "      <td>13.0</td>\n",
       "      <td>555</td>\n",
       "      <td>5.5</td>\n",
       "      <td>4.70%</td>\n",
       "      <td>115</td>\n",
       "      <td>2.0</td>\n",
       "      <td>Spain</td>\n",
       "      <td>0</td>\n",
       "      <td>4</td>\n",
       "      <td>1</td>\n",
       "      <td>1</td>\n",
       "      <td>0</td>\n",
       "    </tr>\n",
       "    <tr>\n",
       "      <th>8</th>\n",
       "      <td>Shkodran Mustafi</td>\n",
       "      <td>Arsenal</td>\n",
       "      <td>25</td>\n",
       "      <td>CB</td>\n",
       "      <td>3</td>\n",
       "      <td>30.0</td>\n",
       "      <td>1877</td>\n",
       "      <td>5.5</td>\n",
       "      <td>4.00%</td>\n",
       "      <td>90</td>\n",
       "      <td>2.0</td>\n",
       "      <td>Germany</td>\n",
       "      <td>0</td>\n",
       "      <td>3</td>\n",
       "      <td>1</td>\n",
       "      <td>1</td>\n",
       "      <td>1</td>\n",
       "    </tr>\n",
       "    <tr>\n",
       "      <th>9</th>\n",
       "      <td>Alex Iwobi</td>\n",
       "      <td>Arsenal</td>\n",
       "      <td>21</td>\n",
       "      <td>LW</td>\n",
       "      <td>1</td>\n",
       "      <td>10.0</td>\n",
       "      <td>1812</td>\n",
       "      <td>5.5</td>\n",
       "      <td>1.00%</td>\n",
       "      <td>89</td>\n",
       "      <td>4.0</td>\n",
       "      <td>Nigeria</td>\n",
       "      <td>0</td>\n",
       "      <td>1</td>\n",
       "      <td>1</td>\n",
       "      <td>1</td>\n",
       "      <td>0</td>\n",
       "    </tr>\n",
       "  </tbody>\n",
       "</table>\n",
       "</div>"
      ],
      "text/plain": [
       "                name     club  age position  position_cat  market_value  \\\n",
       "0     Alexis Sanchez  Arsenal   28       LW             1          65.0   \n",
       "1         Mesut Ozil  Arsenal   28       AM             1          50.0   \n",
       "2          Petr Cech  Arsenal   35       GK             4           7.0   \n",
       "3       Theo Walcott  Arsenal   28       RW             1          20.0   \n",
       "4  Laurent Koscielny  Arsenal   31       CB             3          22.0   \n",
       "5    Hector Bellerin  Arsenal   22       RB             3          30.0   \n",
       "6     Olivier Giroud  Arsenal   30       CF             1          22.0   \n",
       "7      Nacho Monreal  Arsenal   31       LB             3          13.0   \n",
       "8   Shkodran Mustafi  Arsenal   25       CB             3          30.0   \n",
       "9         Alex Iwobi  Arsenal   21       LW             1          10.0   \n",
       "\n",
       "   page_views  fpl_value fpl_sel  fpl_points  region     nationality  \\\n",
       "0        4329       12.0  17.10%         264     3.0           Chile   \n",
       "1        4395        9.5   5.60%         167     2.0         Germany   \n",
       "2        1529        5.5   5.90%         134     2.0  Czech Republic   \n",
       "3        2393        7.5   1.50%         122     1.0         England   \n",
       "4         912        6.0   0.70%         121     2.0          France   \n",
       "5        1675        6.0  13.70%         119     2.0           Spain   \n",
       "6        2230        8.5   2.50%         116     2.0          France   \n",
       "7         555        5.5   4.70%         115     2.0           Spain   \n",
       "8        1877        5.5   4.00%          90     2.0         Germany   \n",
       "9        1812        5.5   1.00%          89     4.0         Nigeria   \n",
       "\n",
       "   new_foreign  age_cat  club_id  big_club  new_signing  \n",
       "0            0        4        1         1            0  \n",
       "1            0        4        1         1            0  \n",
       "2            0        6        1         1            0  \n",
       "3            0        4        1         1            0  \n",
       "4            0        4        1         1            0  \n",
       "5            0        2        1         1            0  \n",
       "6            0        4        1         1            0  \n",
       "7            0        4        1         1            0  \n",
       "8            0        3        1         1            1  \n",
       "9            0        1        1         1            0  "
      ]
     },
     "execution_count": 52,
     "metadata": {},
     "output_type": "execute_result"
    }
   ],
   "source": [
    "epldata.head(10)"
   ]
  },
  {
   "cell_type": "code",
   "execution_count": 9,
   "metadata": {},
   "outputs": [
    {
     "data": {
      "text/html": [
       "<div>\n",
       "<style scoped>\n",
       "    .dataframe tbody tr th:only-of-type {\n",
       "        vertical-align: middle;\n",
       "    }\n",
       "\n",
       "    .dataframe tbody tr th {\n",
       "        vertical-align: top;\n",
       "    }\n",
       "\n",
       "    .dataframe thead th {\n",
       "        text-align: right;\n",
       "    }\n",
       "</style>\n",
       "<table border=\"1\" class=\"dataframe\">\n",
       "  <thead>\n",
       "    <tr style=\"text-align: right;\">\n",
       "      <th></th>\n",
       "      <th>name</th>\n",
       "      <th>club</th>\n",
       "      <th>age</th>\n",
       "      <th>position</th>\n",
       "      <th>position_cat</th>\n",
       "      <th>market_value</th>\n",
       "      <th>page_views</th>\n",
       "      <th>fpl_value</th>\n",
       "      <th>fpl_sel</th>\n",
       "      <th>fpl_points</th>\n",
       "      <th>region</th>\n",
       "      <th>nationality</th>\n",
       "      <th>new_foreign</th>\n",
       "      <th>age_cat</th>\n",
       "      <th>club_id</th>\n",
       "      <th>big_club</th>\n",
       "      <th>new_signing</th>\n",
       "    </tr>\n",
       "  </thead>\n",
       "  <tbody>\n",
       "    <tr>\n",
       "      <th>451</th>\n",
       "      <td>Aaron Cresswell</td>\n",
       "      <td>West+Ham</td>\n",
       "      <td>27</td>\n",
       "      <td>LB</td>\n",
       "      <td>3</td>\n",
       "      <td>12.0</td>\n",
       "      <td>380</td>\n",
       "      <td>5.0</td>\n",
       "      <td>1.30%</td>\n",
       "      <td>60</td>\n",
       "      <td>1.0</td>\n",
       "      <td>England</td>\n",
       "      <td>0</td>\n",
       "      <td>3</td>\n",
       "      <td>20</td>\n",
       "      <td>0</td>\n",
       "      <td>0</td>\n",
       "    </tr>\n",
       "    <tr>\n",
       "      <th>452</th>\n",
       "      <td>Pedro Obiang</td>\n",
       "      <td>West+Ham</td>\n",
       "      <td>25</td>\n",
       "      <td>CM</td>\n",
       "      <td>2</td>\n",
       "      <td>9.0</td>\n",
       "      <td>286</td>\n",
       "      <td>4.5</td>\n",
       "      <td>0.30%</td>\n",
       "      <td>55</td>\n",
       "      <td>2.0</td>\n",
       "      <td>Spain</td>\n",
       "      <td>0</td>\n",
       "      <td>3</td>\n",
       "      <td>20</td>\n",
       "      <td>0</td>\n",
       "      <td>0</td>\n",
       "    </tr>\n",
       "    <tr>\n",
       "      <th>453</th>\n",
       "      <td>Sofiane Feghouli</td>\n",
       "      <td>West+Ham</td>\n",
       "      <td>27</td>\n",
       "      <td>RW</td>\n",
       "      <td>1</td>\n",
       "      <td>12.0</td>\n",
       "      <td>394</td>\n",
       "      <td>5.5</td>\n",
       "      <td>0.20%</td>\n",
       "      <td>55</td>\n",
       "      <td>4.0</td>\n",
       "      <td>Algeria</td>\n",
       "      <td>0</td>\n",
       "      <td>3</td>\n",
       "      <td>20</td>\n",
       "      <td>0</td>\n",
       "      <td>1</td>\n",
       "    </tr>\n",
       "    <tr>\n",
       "      <th>454</th>\n",
       "      <td>Angelo Ogbonna</td>\n",
       "      <td>West+Ham</td>\n",
       "      <td>29</td>\n",
       "      <td>CB</td>\n",
       "      <td>3</td>\n",
       "      <td>9.0</td>\n",
       "      <td>247</td>\n",
       "      <td>4.5</td>\n",
       "      <td>1.10%</td>\n",
       "      <td>45</td>\n",
       "      <td>2.0</td>\n",
       "      <td>Italy</td>\n",
       "      <td>0</td>\n",
       "      <td>4</td>\n",
       "      <td>20</td>\n",
       "      <td>0</td>\n",
       "      <td>0</td>\n",
       "    </tr>\n",
       "    <tr>\n",
       "      <th>455</th>\n",
       "      <td>Pablo Zabaleta</td>\n",
       "      <td>West+Ham</td>\n",
       "      <td>32</td>\n",
       "      <td>RB</td>\n",
       "      <td>3</td>\n",
       "      <td>7.0</td>\n",
       "      <td>698</td>\n",
       "      <td>5.0</td>\n",
       "      <td>2.70%</td>\n",
       "      <td>45</td>\n",
       "      <td>3.0</td>\n",
       "      <td>Argentina</td>\n",
       "      <td>0</td>\n",
       "      <td>5</td>\n",
       "      <td>20</td>\n",
       "      <td>0</td>\n",
       "      <td>0</td>\n",
       "    </tr>\n",
       "    <tr>\n",
       "      <th>456</th>\n",
       "      <td>Edimilson Fernandes</td>\n",
       "      <td>West+Ham</td>\n",
       "      <td>21</td>\n",
       "      <td>CM</td>\n",
       "      <td>2</td>\n",
       "      <td>5.0</td>\n",
       "      <td>288</td>\n",
       "      <td>4.5</td>\n",
       "      <td>0.40%</td>\n",
       "      <td>38</td>\n",
       "      <td>2.0</td>\n",
       "      <td>Switzerland</td>\n",
       "      <td>0</td>\n",
       "      <td>1</td>\n",
       "      <td>20</td>\n",
       "      <td>0</td>\n",
       "      <td>1</td>\n",
       "    </tr>\n",
       "    <tr>\n",
       "      <th>457</th>\n",
       "      <td>Arthur Masuaku</td>\n",
       "      <td>West+Ham</td>\n",
       "      <td>23</td>\n",
       "      <td>LB</td>\n",
       "      <td>3</td>\n",
       "      <td>7.0</td>\n",
       "      <td>199</td>\n",
       "      <td>4.5</td>\n",
       "      <td>0.20%</td>\n",
       "      <td>34</td>\n",
       "      <td>4.0</td>\n",
       "      <td>Congo DR</td>\n",
       "      <td>0</td>\n",
       "      <td>2</td>\n",
       "      <td>20</td>\n",
       "      <td>0</td>\n",
       "      <td>1</td>\n",
       "    </tr>\n",
       "    <tr>\n",
       "      <th>458</th>\n",
       "      <td>Sam Byram</td>\n",
       "      <td>West+Ham</td>\n",
       "      <td>23</td>\n",
       "      <td>RB</td>\n",
       "      <td>3</td>\n",
       "      <td>4.5</td>\n",
       "      <td>198</td>\n",
       "      <td>4.5</td>\n",
       "      <td>0.30%</td>\n",
       "      <td>29</td>\n",
       "      <td>1.0</td>\n",
       "      <td>England</td>\n",
       "      <td>0</td>\n",
       "      <td>2</td>\n",
       "      <td>20</td>\n",
       "      <td>0</td>\n",
       "      <td>0</td>\n",
       "    </tr>\n",
       "    <tr>\n",
       "      <th>459</th>\n",
       "      <td>Ashley Fletcher</td>\n",
       "      <td>West+Ham</td>\n",
       "      <td>21</td>\n",
       "      <td>CF</td>\n",
       "      <td>1</td>\n",
       "      <td>1.0</td>\n",
       "      <td>412</td>\n",
       "      <td>4.5</td>\n",
       "      <td>5.90%</td>\n",
       "      <td>16</td>\n",
       "      <td>1.0</td>\n",
       "      <td>England</td>\n",
       "      <td>0</td>\n",
       "      <td>1</td>\n",
       "      <td>20</td>\n",
       "      <td>0</td>\n",
       "      <td>1</td>\n",
       "    </tr>\n",
       "    <tr>\n",
       "      <th>460</th>\n",
       "      <td>Diafra Sakho</td>\n",
       "      <td>West+Ham</td>\n",
       "      <td>27</td>\n",
       "      <td>CF</td>\n",
       "      <td>1</td>\n",
       "      <td>10.0</td>\n",
       "      <td>214</td>\n",
       "      <td>5.5</td>\n",
       "      <td>0.10%</td>\n",
       "      <td>12</td>\n",
       "      <td>4.0</td>\n",
       "      <td>Senegal</td>\n",
       "      <td>0</td>\n",
       "      <td>3</td>\n",
       "      <td>20</td>\n",
       "      <td>0</td>\n",
       "      <td>0</td>\n",
       "    </tr>\n",
       "  </tbody>\n",
       "</table>\n",
       "</div>"
      ],
      "text/plain": [
       "                    name      club  age position  position_cat  market_value  \\\n",
       "451      Aaron Cresswell  West+Ham   27       LB             3          12.0   \n",
       "452         Pedro Obiang  West+Ham   25       CM             2           9.0   \n",
       "453     Sofiane Feghouli  West+Ham   27       RW             1          12.0   \n",
       "454       Angelo Ogbonna  West+Ham   29       CB             3           9.0   \n",
       "455       Pablo Zabaleta  West+Ham   32       RB             3           7.0   \n",
       "456  Edimilson Fernandes  West+Ham   21       CM             2           5.0   \n",
       "457       Arthur Masuaku  West+Ham   23       LB             3           7.0   \n",
       "458            Sam Byram  West+Ham   23       RB             3           4.5   \n",
       "459      Ashley Fletcher  West+Ham   21       CF             1           1.0   \n",
       "460         Diafra Sakho  West+Ham   27       CF             1          10.0   \n",
       "\n",
       "     page_views  fpl_value fpl_sel  fpl_points  region  nationality  \\\n",
       "451         380        5.0   1.30%          60     1.0      England   \n",
       "452         286        4.5   0.30%          55     2.0        Spain   \n",
       "453         394        5.5   0.20%          55     4.0      Algeria   \n",
       "454         247        4.5   1.10%          45     2.0        Italy   \n",
       "455         698        5.0   2.70%          45     3.0    Argentina   \n",
       "456         288        4.5   0.40%          38     2.0  Switzerland   \n",
       "457         199        4.5   0.20%          34     4.0     Congo DR   \n",
       "458         198        4.5   0.30%          29     1.0      England   \n",
       "459         412        4.5   5.90%          16     1.0      England   \n",
       "460         214        5.5   0.10%          12     4.0      Senegal   \n",
       "\n",
       "     new_foreign  age_cat  club_id  big_club  new_signing  \n",
       "451            0        3       20         0            0  \n",
       "452            0        3       20         0            0  \n",
       "453            0        3       20         0            1  \n",
       "454            0        4       20         0            0  \n",
       "455            0        5       20         0            0  \n",
       "456            0        1       20         0            1  \n",
       "457            0        2       20         0            1  \n",
       "458            0        2       20         0            0  \n",
       "459            0        1       20         0            1  \n",
       "460            0        3       20         0            0  "
      ]
     },
     "execution_count": 9,
     "metadata": {},
     "output_type": "execute_result"
    }
   ],
   "source": [
    "epldata.tail(10)"
   ]
  },
  {
   "cell_type": "code",
   "execution_count": 11,
   "metadata": {},
   "outputs": [
    {
     "data": {
      "text/plain": [
       "name             object\n",
       "club             object\n",
       "age               int64\n",
       "position         object\n",
       "position_cat      int64\n",
       "market_value    float64\n",
       "page_views        int64\n",
       "fpl_value       float64\n",
       "fpl_sel          object\n",
       "fpl_points        int64\n",
       "region          float64\n",
       "nationality      object\n",
       "new_foreign       int64\n",
       "age_cat           int64\n",
       "club_id           int64\n",
       "big_club          int64\n",
       "new_signing       int64\n",
       "dtype: object"
      ]
     },
     "execution_count": 11,
     "metadata": {},
     "output_type": "execute_result"
    }
   ],
   "source": [
    "epldata.dtypes"
   ]
  },
  {
   "cell_type": "code",
   "execution_count": 13,
   "metadata": {},
   "outputs": [
    {
     "data": {
      "text/html": [
       "<div>\n",
       "<style scoped>\n",
       "    .dataframe tbody tr th:only-of-type {\n",
       "        vertical-align: middle;\n",
       "    }\n",
       "\n",
       "    .dataframe tbody tr th {\n",
       "        vertical-align: top;\n",
       "    }\n",
       "\n",
       "    .dataframe thead th {\n",
       "        text-align: right;\n",
       "    }\n",
       "</style>\n",
       "<table border=\"1\" class=\"dataframe\">\n",
       "  <thead>\n",
       "    <tr style=\"text-align: right;\">\n",
       "      <th></th>\n",
       "      <th>age</th>\n",
       "      <th>position_cat</th>\n",
       "      <th>market_value</th>\n",
       "      <th>page_views</th>\n",
       "      <th>fpl_value</th>\n",
       "      <th>fpl_points</th>\n",
       "      <th>region</th>\n",
       "      <th>new_foreign</th>\n",
       "      <th>age_cat</th>\n",
       "      <th>club_id</th>\n",
       "      <th>big_club</th>\n",
       "      <th>new_signing</th>\n",
       "    </tr>\n",
       "  </thead>\n",
       "  <tbody>\n",
       "    <tr>\n",
       "      <th>count</th>\n",
       "      <td>461.000000</td>\n",
       "      <td>461.000000</td>\n",
       "      <td>461.000000</td>\n",
       "      <td>461.000000</td>\n",
       "      <td>461.000000</td>\n",
       "      <td>461.000000</td>\n",
       "      <td>460.000000</td>\n",
       "      <td>461.000000</td>\n",
       "      <td>461.000000</td>\n",
       "      <td>461.000000</td>\n",
       "      <td>461.000000</td>\n",
       "      <td>461.000000</td>\n",
       "    </tr>\n",
       "    <tr>\n",
       "      <th>mean</th>\n",
       "      <td>26.804772</td>\n",
       "      <td>2.180043</td>\n",
       "      <td>11.012039</td>\n",
       "      <td>763.776573</td>\n",
       "      <td>5.447939</td>\n",
       "      <td>57.314534</td>\n",
       "      <td>1.993478</td>\n",
       "      <td>0.034707</td>\n",
       "      <td>3.206074</td>\n",
       "      <td>10.334056</td>\n",
       "      <td>0.303688</td>\n",
       "      <td>0.145336</td>\n",
       "    </tr>\n",
       "    <tr>\n",
       "      <th>std</th>\n",
       "      <td>3.961892</td>\n",
       "      <td>1.000061</td>\n",
       "      <td>12.257403</td>\n",
       "      <td>931.805757</td>\n",
       "      <td>1.346695</td>\n",
       "      <td>53.113811</td>\n",
       "      <td>0.957689</td>\n",
       "      <td>0.183236</td>\n",
       "      <td>1.279795</td>\n",
       "      <td>5.726475</td>\n",
       "      <td>0.460349</td>\n",
       "      <td>0.352822</td>\n",
       "    </tr>\n",
       "    <tr>\n",
       "      <th>min</th>\n",
       "      <td>17.000000</td>\n",
       "      <td>1.000000</td>\n",
       "      <td>0.050000</td>\n",
       "      <td>3.000000</td>\n",
       "      <td>4.000000</td>\n",
       "      <td>0.000000</td>\n",
       "      <td>1.000000</td>\n",
       "      <td>0.000000</td>\n",
       "      <td>1.000000</td>\n",
       "      <td>1.000000</td>\n",
       "      <td>0.000000</td>\n",
       "      <td>0.000000</td>\n",
       "    </tr>\n",
       "    <tr>\n",
       "      <th>25%</th>\n",
       "      <td>24.000000</td>\n",
       "      <td>1.000000</td>\n",
       "      <td>3.000000</td>\n",
       "      <td>220.000000</td>\n",
       "      <td>4.500000</td>\n",
       "      <td>5.000000</td>\n",
       "      <td>1.000000</td>\n",
       "      <td>0.000000</td>\n",
       "      <td>2.000000</td>\n",
       "      <td>6.000000</td>\n",
       "      <td>0.000000</td>\n",
       "      <td>0.000000</td>\n",
       "    </tr>\n",
       "    <tr>\n",
       "      <th>50%</th>\n",
       "      <td>27.000000</td>\n",
       "      <td>2.000000</td>\n",
       "      <td>7.000000</td>\n",
       "      <td>460.000000</td>\n",
       "      <td>5.000000</td>\n",
       "      <td>51.000000</td>\n",
       "      <td>2.000000</td>\n",
       "      <td>0.000000</td>\n",
       "      <td>3.000000</td>\n",
       "      <td>10.000000</td>\n",
       "      <td>0.000000</td>\n",
       "      <td>0.000000</td>\n",
       "    </tr>\n",
       "    <tr>\n",
       "      <th>75%</th>\n",
       "      <td>30.000000</td>\n",
       "      <td>3.000000</td>\n",
       "      <td>15.000000</td>\n",
       "      <td>896.000000</td>\n",
       "      <td>5.500000</td>\n",
       "      <td>94.000000</td>\n",
       "      <td>2.000000</td>\n",
       "      <td>0.000000</td>\n",
       "      <td>4.000000</td>\n",
       "      <td>15.000000</td>\n",
       "      <td>1.000000</td>\n",
       "      <td>0.000000</td>\n",
       "    </tr>\n",
       "    <tr>\n",
       "      <th>max</th>\n",
       "      <td>38.000000</td>\n",
       "      <td>4.000000</td>\n",
       "      <td>75.000000</td>\n",
       "      <td>7664.000000</td>\n",
       "      <td>12.500000</td>\n",
       "      <td>264.000000</td>\n",
       "      <td>4.000000</td>\n",
       "      <td>1.000000</td>\n",
       "      <td>6.000000</td>\n",
       "      <td>20.000000</td>\n",
       "      <td>1.000000</td>\n",
       "      <td>1.000000</td>\n",
       "    </tr>\n",
       "  </tbody>\n",
       "</table>\n",
       "</div>"
      ],
      "text/plain": [
       "              age  position_cat  market_value   page_views   fpl_value  \\\n",
       "count  461.000000    461.000000    461.000000   461.000000  461.000000   \n",
       "mean    26.804772      2.180043     11.012039   763.776573    5.447939   \n",
       "std      3.961892      1.000061     12.257403   931.805757    1.346695   \n",
       "min     17.000000      1.000000      0.050000     3.000000    4.000000   \n",
       "25%     24.000000      1.000000      3.000000   220.000000    4.500000   \n",
       "50%     27.000000      2.000000      7.000000   460.000000    5.000000   \n",
       "75%     30.000000      3.000000     15.000000   896.000000    5.500000   \n",
       "max     38.000000      4.000000     75.000000  7664.000000   12.500000   \n",
       "\n",
       "       fpl_points      region  new_foreign     age_cat     club_id  \\\n",
       "count  461.000000  460.000000   461.000000  461.000000  461.000000   \n",
       "mean    57.314534    1.993478     0.034707    3.206074   10.334056   \n",
       "std     53.113811    0.957689     0.183236    1.279795    5.726475   \n",
       "min      0.000000    1.000000     0.000000    1.000000    1.000000   \n",
       "25%      5.000000    1.000000     0.000000    2.000000    6.000000   \n",
       "50%     51.000000    2.000000     0.000000    3.000000   10.000000   \n",
       "75%     94.000000    2.000000     0.000000    4.000000   15.000000   \n",
       "max    264.000000    4.000000     1.000000    6.000000   20.000000   \n",
       "\n",
       "         big_club  new_signing  \n",
       "count  461.000000   461.000000  \n",
       "mean     0.303688     0.145336  \n",
       "std      0.460349     0.352822  \n",
       "min      0.000000     0.000000  \n",
       "25%      0.000000     0.000000  \n",
       "50%      0.000000     0.000000  \n",
       "75%      1.000000     0.000000  \n",
       "max      1.000000     1.000000  "
      ]
     },
     "execution_count": 13,
     "metadata": {},
     "output_type": "execute_result"
    }
   ],
   "source": [
    "epldata.describe()"
   ]
  },
  {
   "cell_type": "code",
   "execution_count": 15,
   "metadata": {},
   "outputs": [
    {
     "data": {
      "text/plain": [
       "name            0\n",
       "club            0\n",
       "age             0\n",
       "position        0\n",
       "position_cat    0\n",
       "market_value    0\n",
       "page_views      0\n",
       "fpl_value       0\n",
       "fpl_sel         0\n",
       "fpl_points      0\n",
       "region          1\n",
       "nationality     0\n",
       "new_foreign     0\n",
       "age_cat         0\n",
       "club_id         0\n",
       "big_club        0\n",
       "new_signing     0\n",
       "dtype: int64"
      ]
     },
     "execution_count": 15,
     "metadata": {},
     "output_type": "execute_result"
    }
   ],
   "source": [
    "epldata.isnull().sum()"
   ]
  },
  {
   "cell_type": "code",
   "execution_count": 227,
   "metadata": {},
   "outputs": [
    {
     "data": {
      "text/plain": [
       "57.31453362255965"
      ]
     },
     "execution_count": 227,
     "metadata": {},
     "output_type": "execute_result"
    }
   ],
   "source": [
    "epldata.fpl_points.mean()"
   ]
  },
  {
   "cell_type": "code",
   "execution_count": 212,
   "metadata": {},
   "outputs": [
    {
     "data": {
      "text/plain": [
       "Text(0.5, 1.0, 'Relationship Between Age & Market Value')"
      ]
     },
     "execution_count": 212,
     "metadata": {},
     "output_type": "execute_result"
    },
    {
     "data": {
      "image/png": "[encoded data removed]",
      "text/plain": [
       "<Figure size 1152x720 with 1 Axes>"
      ]
     },
     "metadata": {
      "needs_background": "light"
     },
     "output_type": "display_data"
    }
   ],
   "source": [
    "epldata.plot(kind='scatter', x='age', y='market_value', figsize= (16,10))\n",
    "plt.xlabel('age')\n",
    "plt.ylabel('market_value')\n",
    "plt.title('Relationship Between Age & Market Value')"
   ]
  },
  {
   "cell_type": "code",
   "execution_count": 21,
   "metadata": {},
   "outputs": [],
   "source": [
    "from pydoc import help\n",
    "from scipy.stats.stats import pearsonr"
   ]
  },
  {
   "cell_type": "code",
   "execution_count": 24,
   "metadata": {},
   "outputs": [
    {
     "data": {
      "text/plain": [
       "(-0.13239623149378976, 0.0044064776673862875)"
      ]
     },
     "execution_count": 24,
     "metadata": {},
     "output_type": "execute_result"
    }
   ],
   "source": [
    "pearsonr(epldata.age,epldata.market_value)"
   ]
  },
  {
   "cell_type": "code",
   "execution_count": 101,
   "metadata": {},
   "outputs": [
    {
     "data": {
      "text/plain": [
       "<matplotlib.axes._subplots.AxesSubplot at 0x1a2a9b22b0>"
      ]
     },
     "execution_count": 101,
     "metadata": {},
     "output_type": "execute_result"
    },
    {
     "data": {
      "image/png": "[encoded data removed]",
      "text/plain": [
       "<Figure size 576x576 with 1 Axes>"
      ]
     },
     "metadata": {
      "needs_background": "light"
     },
     "output_type": "display_data"
    }
   ],
   "source": [
    "temporary = epldata.groupby('age_cat').mean()['market_value']\n",
    "temporary.plot(kind='bar', figsize= (8,8))\n",
    "# 1 for <21   -- this age group has an average market value of just over 6 million\n",
    "# 2 for 22-24 -- on average, players in this age range have the highest market value\n",
    "# 3 for 25-27 -- on average, players in this age range have the second highest market value\n",
    "# 4 for 28-30 -- on average, players in this age range have the third highest market value\n",
    "# 5 for 31-33 -- this group has the second lowest market value\n",
    "# 6 for 34+   -- expectedly, this age range possesses the players with the least market value\n",
    "\n",
    "# players aged 22-24 have the highest value on average; however, it should be noted that the difference between\n",
    "#  categories 2, 3, and 4 is slight"
   ]
  },
  {
   "cell_type": "code",
   "execution_count": 214,
   "metadata": {},
   "outputs": [
    {
     "data": {
      "text/plain": [
       "Text(0.5, 1.0, 'Relationship Between Fantasy Premier League Points & Market Value')"
      ]
     },
     "execution_count": 214,
     "metadata": {},
     "output_type": "execute_result"
    },
    {
     "data": {
      "image/png": "[encoded data removed]",
      "text/plain": [
       "<Figure size 1152x720 with 1 Axes>"
      ]
     },
     "metadata": {
      "needs_background": "light"
     },
     "output_type": "display_data"
    }
   ],
   "source": [
    "epldata.plot(kind='scatter', x='fpl_points', y='market_value', figsize= (16,10))\n",
    "plt.xlabel('fpl_points')\n",
    "plt.ylabel('market_value')\n",
    "plt.title('Relationship Between Fantasy Premier League Points & Market Value')"
   ]
  },
  {
   "cell_type": "code",
   "execution_count": 32,
   "metadata": {},
   "outputs": [
    {
     "data": {
      "text/plain": [
       "(0.6151545320799908, 2.446999244354544e-49)"
      ]
     },
     "execution_count": 32,
     "metadata": {},
     "output_type": "execute_result"
    }
   ],
   "source": [
    "pearsonr(epldata.fpl_points,epldata.market_value)\n",
    "# 062 implies a semi-strong positive correlation between fpl points and market value"
   ]
  },
  {
   "cell_type": "code",
   "execution_count": 181,
   "metadata": {},
   "outputs": [],
   "source": [
    "epldata['fpl_sel'] = epldata.fpl_sel.str.extract('(\\d+)', expand=True).astype(int)\n",
    "# fpl_sel column was in string form; removed percentage and converted to integer in order to plot relationship\n",
    "# between fpl_selection and market value"
   ]
  },
  {
   "cell_type": "code",
   "execution_count": 215,
   "metadata": {},
   "outputs": [
    {
     "data": {
      "text/plain": [
       "Text(0.5, 1.0, 'Relationship Between FPL Selection & Market Value')"
      ]
     },
     "execution_count": 215,
     "metadata": {},
     "output_type": "execute_result"
    },
    {
     "data": {
      "image/png": "[encoded data removed]",
      "text/plain": [
       "<Figure size 1152x720 with 1 Axes>"
      ]
     },
     "metadata": {
      "needs_background": "light"
     },
     "output_type": "display_data"
    }
   ],
   "source": [
    "epldata.plot(kind='scatter', x='fpl_sel', y='market_value', figsize= (16,10))\n",
    "plt.xlabel('fpl_sel')\n",
    "plt.ylabel('market_value')\n",
    "plt.title('Relationship Between FPL Selection & Market Value')"
   ]
  },
  {
   "cell_type": "code",
   "execution_count": 184,
   "metadata": {},
   "outputs": [
    {
     "data": {
      "text/plain": [
       "(0.5467692833013259, 2.6869520899824647e-37)"
      ]
     },
     "execution_count": 184,
     "metadata": {},
     "output_type": "execute_result"
    }
   ],
   "source": [
    "pearsonr(epldata.fpl_sel,epldata.market_value)\n",
    "# correlation coefficient of 0.54 implies a decent positive relationship"
   ]
  },
  {
   "cell_type": "code",
   "execution_count": 209,
   "metadata": {},
   "outputs": [
    {
     "data": {
      "text/plain": [
       "Text(0.5, 1.0, 'Market Value by Region')"
      ]
     },
     "execution_count": 209,
     "metadata": {},
     "output_type": "execute_result"
    },
    {
     "data": {
      "image/png": "[encoded data removed]",
      "text/plain": [
       "<Figure size 576x576 with 1 Axes>"
      ]
     },
     "metadata": {
      "needs_background": "light"
     },
     "output_type": "display_data"
    }
   ],
   "source": [
    "temp = epldata.groupby('region').mean()['market_value']\n",
    "temp.plot(kind='bar', figsize= (8,8))\n",
    "plt.xlabel('region')\n",
    "plt.ylabel('market_value')\n",
    "plt.title('Market Value by Region')\n",
    "# 1 for England\n",
    "# 2 for EU\n",
    "# 3 for Americas\n",
    "# 4 for Rest of World\n",
    "# Players from the Americas have the highest market value on average (14 million), followed by Europe (12 million),\n",
    "# the rest of the world (11 million) and England (8 million)"
   ]
  },
  {
   "cell_type": "code",
   "execution_count": 211,
   "metadata": {},
   "outputs": [
    {
     "data": {
      "text/plain": [
       "Text(0.5, 1.0, 'Market Value by Position Category')"
      ]
     },
     "execution_count": 211,
     "metadata": {},
     "output_type": "execute_result"
    },
    {
     "data": {
      "image/png": "[encoded data removed]",
      "text/plain": [
       "<Figure size 576x576 with 1 Axes>"
      ]
     },
     "metadata": {
      "needs_background": "light"
     },
     "output_type": "display_data"
    }
   ],
   "source": [
    "temp2 = epldata.groupby('position_cat').mean()['market_value']\n",
    "temp2.plot(kind='barh', figsize =(8,8))\n",
    "plt.xlabel('market_value')\n",
    "plt.ylabel('position_cat')\n",
    "plt.title('Market Value by Position Category')\n",
    "# 1 for forwards\n",
    "# 2 for midfielders\n",
    "# 3 for defenders\n",
    "# 4 for goal keepers\n",
    "# On average, forwards have the highest market value (just over 14 million); they are followed by midfielders \n",
    "# (11 million), defenders (8 million), and lastly goal keepers (7 million)"
   ]
  },
  {
   "cell_type": "code",
   "execution_count": 216,
   "metadata": {},
   "outputs": [
    {
     "data": {
      "text/plain": [
       "Text(0.5, 1.0, 'Total Market Value by Club')"
      ]
     },
     "execution_count": 216,
     "metadata": {},
     "output_type": "execute_result"
    },
    {
     "data": {
      "image/png": "[encoded data removed]",
      "text/plain": [
       "<Figure size 1152x720 with 1 Axes>"
      ]
     },
     "metadata": {
      "needs_background": "light"
     },
     "output_type": "display_data"
    }
   ],
   "source": [
    "temp3 = epldata.groupby('club').sum()['market_value']\n",
    "temp3.plot(kind='bar', figsize =(16,10))\n",
    "plt.xlabel('club')\n",
    "plt.ylabel('market_value')\n",
    "plt.title('Total Market Value by Club')\n",
    "# From the visualization it is clear that whether a club is part of the 'big 6' or not is a significant factor\n",
    "# The total market value of a big 6 club's squad (Arsenal, Chelsea, Liverpool, Manchester City, Manchester United, and \n",
    "# Tottenham is significantly more than that of the smaller clubs)"
   ]
  },
  {
   "cell_type": "code",
   "execution_count": 218,
   "metadata": {},
   "outputs": [
    {
     "data": {
      "text/plain": [
       "Text(0, 0.5, 'market_value')"
      ]
     },
     "execution_count": 218,
     "metadata": {},
     "output_type": "execute_result"
    },
    {
     "data": {
      "image/png": "[encoded data removed]",
      "text/plain": [
       "<Figure size 576x432 with 1 Axes>"
      ]
     },
     "metadata": {
      "needs_background": "light"
     },
     "output_type": "display_data"
    }
   ],
   "source": [
    "epldata.boxplot(column='market_value', by='big_club', figsize= (8,6))\n",
    "plt.xlabel('big_club')\n",
    "plt.ylabel('market_value')"
   ]
  },
  {
   "cell_type": "code",
   "execution_count": 219,
   "metadata": {},
   "outputs": [
    {
     "data": {
      "text/plain": [
       "Text(0, 0.5, 'market_value')"
      ]
     },
     "execution_count": 219,
     "metadata": {},
     "output_type": "execute_result"
    },
    {
     "data": {
      "image/png": "[encoded data removed]",
      "text/plain": [
       "<Figure size 576x432 with 1 Axes>"
      ]
     },
     "metadata": {
      "needs_background": "light"
     },
     "output_type": "display_data"
    }
   ],
   "source": [
    "epldata.boxplot(column='market_value', by='new_foreign', figsize= (8,6))\n",
    "plt.xlabel('new_foreign')\n",
    "plt.ylabel('market_value')"
   ]
  },
  {
   "cell_type": "code",
   "execution_count": 220,
   "metadata": {},
   "outputs": [
    {
     "data": {
      "text/plain": [
       "Text(0, 0.5, 'market_value')"
      ]
     },
     "execution_count": 220,
     "metadata": {},
     "output_type": "execute_result"
    },
    {
     "data": {
      "image/png": "[encoded data removed]",
      "text/plain": [
       "<Figure size 576x432 with 1 Axes>"
      ]
     },
     "metadata": {
      "needs_background": "light"
     },
     "output_type": "display_data"
    }
   ],
   "source": [
    "epldata.boxplot(column='market_value', by='new_signing', figsize= (8,6))\n",
    "plt.xlabel('new_signing')\n",
    "plt.ylabel('market_value')"
   ]
  },
  {
   "cell_type": "code",
   "execution_count": 106,
   "metadata": {},
   "outputs": [
    {
     "data": {
      "image/png": "[encoded data removed]",
      "text/plain": [
       "<Figure size 432x288 with 2 Axes>"
      ]
     },
     "metadata": {
      "needs_background": "light"
     },
     "output_type": "display_data"
    }
   ],
   "source": [
    "epldata_correlations = epldata.corr();\n",
    "sns.heatmap(epldata_correlations);"
   ]
  },
  {
   "cell_type": "code",
   "execution_count": null,
   "metadata": {},
   "outputs": [],
   "source": [
    "# Linear Regression"
   ]
  },
  {
   "cell_type": "code",
   "execution_count": 107,
   "metadata": {},
   "outputs": [],
   "source": [
    "from sklearn.linear_model import LinearRegression"
   ]
  },
  {
   "cell_type": "code",
   "execution_count": 118,
   "metadata": {},
   "outputs": [],
   "source": [
    "feature_cols = ['age','fpl_value','region','big_club']"
   ]
  },
  {
   "cell_type": "code",
   "execution_count": 119,
   "metadata": {},
   "outputs": [],
   "source": [
    "region_dummies = pd.get_dummies(epldata.region, prefix='region')"
   ]
  },
  {
   "cell_type": "code",
   "execution_count": 114,
   "metadata": {},
   "outputs": [
    {
     "data": {
      "text/html": [
       "<div>\n",
       "<style scoped>\n",
       "    .dataframe tbody tr th:only-of-type {\n",
       "        vertical-align: middle;\n",
       "    }\n",
       "\n",
       "    .dataframe tbody tr th {\n",
       "        vertical-align: top;\n",
       "    }\n",
       "\n",
       "    .dataframe thead th {\n",
       "        text-align: right;\n",
       "    }\n",
       "</style>\n",
       "<table border=\"1\" class=\"dataframe\">\n",
       "  <thead>\n",
       "    <tr style=\"text-align: right;\">\n",
       "      <th></th>\n",
       "      <th>region_1.0</th>\n",
       "      <th>region_2.0</th>\n",
       "      <th>region_3.0</th>\n",
       "      <th>region_4.0</th>\n",
       "    </tr>\n",
       "  </thead>\n",
       "  <tbody>\n",
       "    <tr>\n",
       "      <th>330</th>\n",
       "      <td>1</td>\n",
       "      <td>0</td>\n",
       "      <td>0</td>\n",
       "      <td>0</td>\n",
       "    </tr>\n",
       "    <tr>\n",
       "      <th>101</th>\n",
       "      <td>0</td>\n",
       "      <td>0</td>\n",
       "      <td>1</td>\n",
       "      <td>0</td>\n",
       "    </tr>\n",
       "    <tr>\n",
       "      <th>191</th>\n",
       "      <td>0</td>\n",
       "      <td>1</td>\n",
       "      <td>0</td>\n",
       "      <td>0</td>\n",
       "    </tr>\n",
       "    <tr>\n",
       "      <th>66</th>\n",
       "      <td>1</td>\n",
       "      <td>0</td>\n",
       "      <td>0</td>\n",
       "      <td>0</td>\n",
       "    </tr>\n",
       "    <tr>\n",
       "      <th>326</th>\n",
       "      <td>0</td>\n",
       "      <td>1</td>\n",
       "      <td>0</td>\n",
       "      <td>0</td>\n",
       "    </tr>\n",
       "  </tbody>\n",
       "</table>\n",
       "</div>"
      ],
      "text/plain": [
       "     region_1.0  region_2.0  region_3.0  region_4.0\n",
       "330           1           0           0           0\n",
       "101           0           0           1           0\n",
       "191           0           1           0           0\n",
       "66            1           0           0           0\n",
       "326           0           1           0           0"
      ]
     },
     "execution_count": 114,
     "metadata": {},
     "output_type": "execute_result"
    }
   ],
   "source": [
    "region_dummies.sample(n=5, random_state=1)"
   ]
  },
  {
   "cell_type": "code",
   "execution_count": 115,
   "metadata": {},
   "outputs": [],
   "source": [
    "region_dummies.drop(region_dummies.columns[0], axis=1, inplace=True)"
   ]
  },
  {
   "cell_type": "code",
   "execution_count": 116,
   "metadata": {},
   "outputs": [
    {
     "data": {
      "text/html": [
       "<div>\n",
       "<style scoped>\n",
       "    .dataframe tbody tr th:only-of-type {\n",
       "        vertical-align: middle;\n",
       "    }\n",
       "\n",
       "    .dataframe tbody tr th {\n",
       "        vertical-align: top;\n",
       "    }\n",
       "\n",
       "    .dataframe thead th {\n",
       "        text-align: right;\n",
       "    }\n",
       "</style>\n",
       "<table border=\"1\" class=\"dataframe\">\n",
       "  <thead>\n",
       "    <tr style=\"text-align: right;\">\n",
       "      <th></th>\n",
       "      <th>region_2.0</th>\n",
       "      <th>region_3.0</th>\n",
       "      <th>region_4.0</th>\n",
       "    </tr>\n",
       "  </thead>\n",
       "  <tbody>\n",
       "    <tr>\n",
       "      <th>330</th>\n",
       "      <td>0</td>\n",
       "      <td>0</td>\n",
       "      <td>0</td>\n",
       "    </tr>\n",
       "    <tr>\n",
       "      <th>101</th>\n",
       "      <td>0</td>\n",
       "      <td>1</td>\n",
       "      <td>0</td>\n",
       "    </tr>\n",
       "    <tr>\n",
       "      <th>191</th>\n",
       "      <td>1</td>\n",
       "      <td>0</td>\n",
       "      <td>0</td>\n",
       "    </tr>\n",
       "    <tr>\n",
       "      <th>66</th>\n",
       "      <td>0</td>\n",
       "      <td>0</td>\n",
       "      <td>0</td>\n",
       "    </tr>\n",
       "    <tr>\n",
       "      <th>326</th>\n",
       "      <td>1</td>\n",
       "      <td>0</td>\n",
       "      <td>0</td>\n",
       "    </tr>\n",
       "  </tbody>\n",
       "</table>\n",
       "</div>"
      ],
      "text/plain": [
       "     region_2.0  region_3.0  region_4.0\n",
       "330           0           0           0\n",
       "101           0           1           0\n",
       "191           1           0           0\n",
       "66            0           0           0\n",
       "326           1           0           0"
      ]
     },
     "execution_count": 116,
     "metadata": {},
     "output_type": "execute_result"
    }
   ],
   "source": [
    "region_dummies.sample(n=5, random_state=1)"
   ]
  },
  {
   "cell_type": "code",
   "execution_count": 122,
   "metadata": {},
   "outputs": [
    {
     "data": {
      "text/html": [
       "<div>\n",
       "<style scoped>\n",
       "    .dataframe tbody tr th:only-of-type {\n",
       "        vertical-align: middle;\n",
       "    }\n",
       "\n",
       "    .dataframe tbody tr th {\n",
       "        vertical-align: top;\n",
       "    }\n",
       "\n",
       "    .dataframe thead th {\n",
       "        text-align: right;\n",
       "    }\n",
       "</style>\n",
       "<table border=\"1\" class=\"dataframe\">\n",
       "  <thead>\n",
       "    <tr style=\"text-align: right;\">\n",
       "      <th></th>\n",
       "      <th>name</th>\n",
       "      <th>club</th>\n",
       "      <th>age</th>\n",
       "      <th>position</th>\n",
       "      <th>position_cat</th>\n",
       "      <th>market_value</th>\n",
       "      <th>page_views</th>\n",
       "      <th>fpl_value</th>\n",
       "      <th>fpl_sel</th>\n",
       "      <th>fpl_points</th>\n",
       "      <th>...</th>\n",
       "      <th>nationality</th>\n",
       "      <th>new_foreign</th>\n",
       "      <th>age_cat</th>\n",
       "      <th>club_id</th>\n",
       "      <th>big_club</th>\n",
       "      <th>new_signing</th>\n",
       "      <th>region_1.0</th>\n",
       "      <th>region_2.0</th>\n",
       "      <th>region_3.0</th>\n",
       "      <th>region_4.0</th>\n",
       "    </tr>\n",
       "  </thead>\n",
       "  <tbody>\n",
       "    <tr>\n",
       "      <th>330</th>\n",
       "      <td>Marko ArnautoviÄ‡</td>\n",
       "      <td>Stoke+City</td>\n",
       "      <td>28</td>\n",
       "      <td>LW</td>\n",
       "      <td>1</td>\n",
       "      <td>15.0</td>\n",
       "      <td>579</td>\n",
       "      <td>7.0</td>\n",
       "      <td>0.70%</td>\n",
       "      <td>117</td>\n",
       "      <td>...</td>\n",
       "      <td>England</td>\n",
       "      <td>0</td>\n",
       "      <td>4</td>\n",
       "      <td>15</td>\n",
       "      <td>0</td>\n",
       "      <td>0</td>\n",
       "      <td>1</td>\n",
       "      <td>0</td>\n",
       "      <td>0</td>\n",
       "      <td>0</td>\n",
       "    </tr>\n",
       "    <tr>\n",
       "      <th>101</th>\n",
       "      <td>Willian</td>\n",
       "      <td>Chelsea</td>\n",
       "      <td>28</td>\n",
       "      <td>RW</td>\n",
       "      <td>1</td>\n",
       "      <td>32.0</td>\n",
       "      <td>1165</td>\n",
       "      <td>7.0</td>\n",
       "      <td>9.00%</td>\n",
       "      <td>114</td>\n",
       "      <td>...</td>\n",
       "      <td>Brazil</td>\n",
       "      <td>0</td>\n",
       "      <td>4</td>\n",
       "      <td>5</td>\n",
       "      <td>1</td>\n",
       "      <td>0</td>\n",
       "      <td>0</td>\n",
       "      <td>0</td>\n",
       "      <td>1</td>\n",
       "      <td>0</td>\n",
       "    </tr>\n",
       "    <tr>\n",
       "      <th>191</th>\n",
       "      <td>Kasper Schmeichel</td>\n",
       "      <td>Leicester+City</td>\n",
       "      <td>30</td>\n",
       "      <td>GK</td>\n",
       "      <td>4</td>\n",
       "      <td>10.0</td>\n",
       "      <td>1601</td>\n",
       "      <td>5.0</td>\n",
       "      <td>2.40%</td>\n",
       "      <td>109</td>\n",
       "      <td>...</td>\n",
       "      <td>Denmark</td>\n",
       "      <td>0</td>\n",
       "      <td>4</td>\n",
       "      <td>9</td>\n",
       "      <td>0</td>\n",
       "      <td>0</td>\n",
       "      <td>0</td>\n",
       "      <td>1</td>\n",
       "      <td>0</td>\n",
       "      <td>0</td>\n",
       "    </tr>\n",
       "    <tr>\n",
       "      <th>66</th>\n",
       "      <td>Solly March</td>\n",
       "      <td>Brighton+and+Hove</td>\n",
       "      <td>23</td>\n",
       "      <td>RM</td>\n",
       "      <td>2</td>\n",
       "      <td>0.5</td>\n",
       "      <td>139</td>\n",
       "      <td>5.0</td>\n",
       "      <td>0.20%</td>\n",
       "      <td>0</td>\n",
       "      <td>...</td>\n",
       "      <td>England</td>\n",
       "      <td>0</td>\n",
       "      <td>2</td>\n",
       "      <td>3</td>\n",
       "      <td>0</td>\n",
       "      <td>0</td>\n",
       "      <td>1</td>\n",
       "      <td>0</td>\n",
       "      <td>0</td>\n",
       "      <td>0</td>\n",
       "    </tr>\n",
       "    <tr>\n",
       "      <th>326</th>\n",
       "      <td>Jeremy Pied</td>\n",
       "      <td>Southampton</td>\n",
       "      <td>28</td>\n",
       "      <td>RM</td>\n",
       "      <td>2</td>\n",
       "      <td>3.5</td>\n",
       "      <td>136</td>\n",
       "      <td>4.5</td>\n",
       "      <td>0.10%</td>\n",
       "      <td>5</td>\n",
       "      <td>...</td>\n",
       "      <td>France</td>\n",
       "      <td>0</td>\n",
       "      <td>4</td>\n",
       "      <td>14</td>\n",
       "      <td>0</td>\n",
       "      <td>1</td>\n",
       "      <td>0</td>\n",
       "      <td>1</td>\n",
       "      <td>0</td>\n",
       "      <td>0</td>\n",
       "    </tr>\n",
       "  </tbody>\n",
       "</table>\n",
       "<p>5 rows × 21 columns</p>\n",
       "</div>"
      ],
      "text/plain": [
       "                  name               club  age position  position_cat  \\\n",
       "330  Marko ArnautoviÄ‡         Stoke+City   28       LW             1   \n",
       "101            Willian            Chelsea   28       RW             1   \n",
       "191  Kasper Schmeichel     Leicester+City   30       GK             4   \n",
       "66         Solly March  Brighton+and+Hove   23       RM             2   \n",
       "326        Jeremy Pied        Southampton   28       RM             2   \n",
       "\n",
       "     market_value  page_views  fpl_value fpl_sel  fpl_points     ...      \\\n",
       "330          15.0         579        7.0   0.70%         117     ...       \n",
       "101          32.0        1165        7.0   9.00%         114     ...       \n",
       "191          10.0        1601        5.0   2.40%         109     ...       \n",
       "66            0.5         139        5.0   0.20%           0     ...       \n",
       "326           3.5         136        4.5   0.10%           5     ...       \n",
       "\n",
       "     nationality new_foreign  age_cat  club_id  big_club  new_signing  \\\n",
       "330      England           0        4       15         0            0   \n",
       "101       Brazil           0        4        5         1            0   \n",
       "191      Denmark           0        4        9         0            0   \n",
       "66       England           0        2        3         0            0   \n",
       "326       France           0        4       14         0            1   \n",
       "\n",
       "     region_1.0  region_2.0  region_3.0  region_4.0  \n",
       "330           1           0           0           0  \n",
       "101           0           0           1           0  \n",
       "191           0           1           0           0  \n",
       "66            1           0           0           0  \n",
       "326           0           1           0           0  \n",
       "\n",
       "[5 rows x 21 columns]"
      ]
     },
     "execution_count": 122,
     "metadata": {},
     "output_type": "execute_result"
    }
   ],
   "source": [
    "epldata_new = pd.concat([epldata, region_dummies], axis=1)\n",
    "epldata_new.sample(n=5, random_state=1)"
   ]
  },
  {
   "cell_type": "code",
   "execution_count": 120,
   "metadata": {},
   "outputs": [],
   "source": [
    "redef_feature_cols = ['age', 'fpl_value', 'region_2.0', 'region_3.0', 'region_4.0', 'big_club']"
   ]
  },
  {
   "cell_type": "code",
   "execution_count": 123,
   "metadata": {},
   "outputs": [
    {
     "name": "stdout",
     "output_type": "stream",
     "text": [
      "-21.49155833149198\n",
      "[-0.13087906  5.9258304   2.15508218  1.40256637  1.41640297  8.11272884]\n"
     ]
    }
   ],
   "source": [
    "# Create X and y.\n",
    "X = epldata_new[redef_feature_cols]\n",
    "y = epldata_new.market_value\n",
    "\n",
    "# Instantiate and fit.\n",
    "linreg = LinearRegression()\n",
    "linreg.fit(X, y)\n",
    "\n",
    "# Print the coefficients.\n",
    "print(linreg.intercept_)\n",
    "print(linreg.coef_)"
   ]
  },
  {
   "cell_type": "code",
   "execution_count": 131,
   "metadata": {},
   "outputs": [
    {
     "data": {
      "text/plain": [
       "[('age', -0.13087905612107395),\n",
       " ('fpl_value', 5.925830400457193),\n",
       " ('region_2.0', 2.1550821786500807),\n",
       " ('region_3.0', 1.4025663682420695),\n",
       " ('region_4.0', 1.4164029710058992),\n",
       " ('big_club', 8.112728843591803)]"
      ]
     },
     "execution_count": 131,
     "metadata": {},
     "output_type": "execute_result"
    }
   ],
   "source": [
    "list(zip(redef_feature_cols, linreg.coef_))"
   ]
  },
  {
   "cell_type": "code",
   "execution_count": 337,
   "metadata": {},
   "outputs": [
    {
     "name": "stdout",
     "output_type": "stream",
     "text": [
      "                            OLS Regression Results                            \n",
      "==============================================================================\n",
      "Dep. Variable:           market_value   R-squared:                       0.711\n",
      "Model:                            OLS   Adj. R-squared:                  0.707\n",
      "Method:                 Least Squares   F-statistic:                     185.9\n",
      "Date:                Fri, 11 Jan 2019   Prob (F-statistic):          7.02e-119\n",
      "Time:                        16:27:18   Log-Likelihood:                -1523.1\n",
      "No. Observations:                 461   AIC:                             3060.\n",
      "Df Residuals:                     454   BIC:                             3089.\n",
      "Df Model:                           6                                         \n",
      "Covariance Type:            nonrobust                                         \n",
      "==============================================================================\n",
      "                 coef    std err          t      P>|t|      [0.025      0.975]\n",
      "------------------------------------------------------------------------------\n",
      "const        -21.4916      2.599     -8.270      0.000     -26.599     -16.384\n",
      "age           -0.1309      0.081     -1.617      0.107      -0.290       0.028\n",
      "fpl_value      5.9258      0.255     23.261      0.000       5.425       6.426\n",
      "region_2.0     2.1551      0.715      3.014      0.003       0.750       3.560\n",
      "region_3.0     1.4026      1.208      1.161      0.246      -0.972       3.777\n",
      "region_4.0     1.4164      1.037      1.366      0.173      -0.621       3.454\n",
      "big_club       8.1127      0.762     10.643      0.000       6.615       9.611\n",
      "==============================================================================\n",
      "Omnibus:                      143.919   Durbin-Watson:                   1.736\n",
      "Prob(Omnibus):                  0.000   Jarque-Bera (JB):              837.141\n",
      "Skew:                           1.218   Prob(JB):                    1.65e-182\n",
      "Kurtosis:                       9.136   Cond. No.                         233.\n",
      "==============================================================================\n",
      "\n",
      "Warnings:\n",
      "[1] Standard Errors assume that the covariance matrix of the errors is correctly specified.\n"
     ]
    }
   ],
   "source": [
    "X = epldata_new[redef_feature_cols]\n",
    "y = epldata_new.market_value\n",
    "\n",
    "import statsmodels.api as sm\n",
    "X2 = sm.add_constant(X)\n",
    "est = sm.OLS(y, X2)\n",
    "est2 = est.fit()\n",
    "print(est2.summary())\n",
    "\n",
    "# By looking at the matrix below, we can interpret the p-values for the input variables and their significance\n",
    "# Age, region_3.0, and region_4.0 have p-values greater than 0.05, which implies they are not significant\n",
    "# On the other hand, fpl_value, region_2.0, and big_club have p-values close to 0; we can infer that these factors \n",
    "# are significant as the values are all less than 0.05, which is the cutoff for significance"
   ]
  },
  {
   "cell_type": "code",
   "execution_count": 133,
   "metadata": {},
   "outputs": [],
   "source": [
    "from sklearn.model_selection import train_test_split\n",
    "from sklearn import metrics\n",
    "\n",
    "# Define a function that accepts a list of features and returns testing RMSE.\n",
    "def train_test_rmse(epldata_new, redef_feature_cols):\n",
    "    X = epldata_new[redef_feature_cols]\n",
    "    y = epldata_new.market_value\n",
    "    \n",
    "    X_train, X_test, y_train, y_test = train_test_split(X, y, random_state=123)\n",
    "    \n",
    "    linreg = LinearRegression()\n",
    "    linreg.fit(X_train, y_train)\n",
    "    \n",
    "    y_pred = linreg.predict(X_test)\n",
    "    return np.sqrt(metrics.mean_squared_error(y_test, y_pred))"
   ]
  },
  {
   "cell_type": "code",
   "execution_count": 135,
   "metadata": {},
   "outputs": [
    {
     "name": "stdout",
     "output_type": "stream",
     "text": [
      "7.073858740533211\n",
      "7.705638199570018\n",
      "7.125379455681801\n",
      "7.095619272861835\n",
      "7.097689367190503\n",
      "11.260969046357467\n",
      "7.065584803330878\n",
      "7.105039987104799\n"
     ]
    }
   ],
   "source": [
    "print(train_test_rmse(epldata_new, ['age', 'fpl_value', 'region_2.0', 'region_3.0', 'region_4.0', 'big_club']))\n",
    "print(train_test_rmse(epldata_new, ['age', 'fpl_value', 'region_2.0', 'region_3.0', 'region_4.0']))\n",
    "print(train_test_rmse(epldata_new, ['age', 'fpl_value', 'region_3.0', 'region_4.0', 'big_club']))\n",
    "print(train_test_rmse(epldata_new, ['age', 'fpl_value', 'region_2.0', 'region_4.0', 'big_club']))\n",
    "print(train_test_rmse(epldata_new, ['age', 'fpl_value', 'region_2.0', 'region_3.0', 'big_club']))\n",
    "print(train_test_rmse(epldata_new, ['age', 'big_club']))\n",
    "print(train_test_rmse(epldata_new, ['fpl_value', 'big_club']))\n",
    "print(train_test_rmse(epldata_new, ['age', 'fpl_value', 'big_club']))\n",
    "\n",
    "\n"
   ]
  },
  {
   "cell_type": "code",
   "execution_count": null,
   "metadata": {},
   "outputs": [],
   "source": [
    "# Train/Test split\n"
   ]
  },
  {
   "cell_type": "code",
   "execution_count": 136,
   "metadata": {},
   "outputs": [],
   "source": [
    "from sklearn.model_selection import train_test_split\n",
    "\n",
    "X_train, X_test, y_train, y_test = train_test_split(X, y)"
   ]
  },
  {
   "cell_type": "code",
   "execution_count": 137,
   "metadata": {},
   "outputs": [
    {
     "name": "stdout",
     "output_type": "stream",
     "text": [
      "(461, 6)\n",
      "(345, 6)\n",
      "(116, 6)\n"
     ]
    }
   ],
   "source": [
    "# Before splitting\n",
    "print(X.shape)\n",
    "\n",
    "# After splitting\n",
    "print(X_train.shape)\n",
    "print(X_test.shape)"
   ]
  },
  {
   "cell_type": "code",
   "execution_count": 138,
   "metadata": {},
   "outputs": [
    {
     "name": "stdout",
     "output_type": "stream",
     "text": [
      "(461,)\n",
      "(345,)\n",
      "(116,)\n"
     ]
    }
   ],
   "source": [
    "print(y.shape)\n",
    "\n",
    "# After splitting\n",
    "print(y_train.shape)\n",
    "print(y_test.shape)"
   ]
  },
  {
   "cell_type": "code",
   "execution_count": null,
   "metadata": {},
   "outputs": [],
   "source": [
    "# Cross Validation\n"
   ]
  },
  {
   "cell_type": "code",
   "execution_count": 139,
   "metadata": {},
   "outputs": [],
   "source": [
    "from sklearn import model_selection"
   ]
  },
  {
   "cell_type": "code",
   "execution_count": 141,
   "metadata": {},
   "outputs": [],
   "source": [
    "kf = model_selection.KFold(n_splits=5, shuffle=True)"
   ]
  },
  {
   "cell_type": "code",
   "execution_count": 142,
   "metadata": {},
   "outputs": [
    {
     "name": "stdout",
     "output_type": "stream",
     "text": [
      "~~~~ CROSS VALIDATION each fold ~~~~\n",
      "Model 1\n",
      "MSE: 42.695405525245675\n",
      "R2: 0.7097200922717772\n",
      "\n",
      "Model 2\n",
      "MSE: 34.22828997560148\n",
      "R2: 0.7097504180844194\n",
      "\n",
      "Model 3\n",
      "MSE: 40.61941882378057\n",
      "R2: 0.7088983454802338\n",
      "\n",
      "Model 4\n",
      "MSE: 54.89408921681394\n",
      "R2: 0.7060953738659581\n",
      "\n",
      "Model 5\n",
      "MSE: 56.573975691917006\n",
      "R2: 0.7096640900641054\n",
      "\n",
      "~~~~ SUMMARY OF CROSS VALIDATION ~~~~\n",
      "Mean of MSE for all folds: 45.802235846671735\n",
      "Mean of R2 for all folds: 0.7088256639532988\n"
     ]
    }
   ],
   "source": [
    "mse_values = []\n",
    "scores = []\n",
    "n = 0\n",
    "\n",
    "print(\"~~~~ CROSS VALIDATION each fold ~~~~\")\n",
    "for train_index, test_index in kf.split(X, y):\n",
    "    lr = LinearRegression().fit(X.iloc[train_index], y.iloc[train_index])\n",
    "    \n",
    "    mse_values.append(metrics.mean_squared_error(y.iloc[test_index], lr.predict(X.iloc[test_index])))\n",
    "    scores.append(lr.score(X, y))\n",
    "    \n",
    "    n += 1\n",
    "    \n",
    "    print('Model {}'.format(n))\n",
    "    print('MSE: {}'.format(mse_values[n-1]))\n",
    "    print('R2: {}\\n'.format(scores[n-1]))\n",
    "\n",
    "\n",
    "print(\"~~~~ SUMMARY OF CROSS VALIDATION ~~~~\")\n",
    "print('Mean of MSE for all folds: {}'.format(np.mean(mse_values)))\n",
    "print('Mean of R2 for all folds: {}'.format(np.mean(scores)))"
   ]
  },
  {
   "cell_type": "code",
   "execution_count": null,
   "metadata": {},
   "outputs": [],
   "source": [
    "#  Model Testing with non-EPL Players:\n",
    "\n",
    "# I used the model to predict the value of 3 non English Premier League Players: Antoine Griezman, Marco Reus, and Neymar"
   ]
  },
  {
   "cell_type": "code",
   "execution_count": 333,
   "metadata": {},
   "outputs": [
    {
     "name": "stdout",
     "output_type": "stream",
     "text": [
      "               name               club  age position position_cat page_views  \\\n",
      "0  Antoine Griezman    Atletico Madrid   25       LW            1              \n",
      "1        Marco Reus  Borrusia Dortmund   27       LW            1              \n",
      "2            Neymar                PSG   24       LW            1              \n",
      "\n",
      "   fpl_value fpl_sel fpl_points region nationality new_foreign age_cat  \\\n",
      "0      9.937                       2.0      French           0       3   \n",
      "1      9.937                       2.0      German           0       3   \n",
      "2      9.937                       3.0   Brazilian           0       2   \n",
      "\n",
      "  big_club new_signing  region_1.0  region_2.0  region_3.0  region_4.0  \n",
      "0        1           0         0.0         1.0         0.0         0.0  \n",
      "1        1           0         0.0         1.0         0.0         0.0  \n",
      "2        1           0         0.0         0.0         1.0         0.0  \n"
     ]
    }
   ],
   "source": [
    "Non_EPL_Test_Data = {'name': ['Antoine Griezman','Marco Reus','Neymar'], 'club': ['Atletico Madrid','Borrusia Dortmund','PSG'], 'age': [25,27,24], 'position': ['LW','LW','LW'], 'position_cat': ['1','1','1'], 'page_views': ['','',''], 'fpl_value': [9.937,9.937,9.937], 'fpl_sel': ['','',''], 'fpl_points': ['','',''], 'region': ['2.0', '2.0', '3.0'],'nationality': ['French', 'German', 'Brazilian'],'new_foreign': ['0','0','0'],'age_cat': ['3','3','2'],'big_club': ['1','1','1'], 'new_signing': ['0','0','0'], 'region_1.0': [0.0, 0.0, 0.0], 'region_2.0': [1.0, 1.0, 0.0], 'region_3.0': [0.0, 0.0, 1.0], 'region_4.0': [0.0, 0.0, 0.0]}\n",
    "Non_EPL_Test_Data = pd.DataFrame(data=Non_EPL_Test_Data)\n",
    "# Non_EPL_Test_Data = pd.DataFrame.from_dict(Non_EPL_Test_Data)\n",
    "print(Non_EPL_Test_Data)"
   ]
  },
  {
   "cell_type": "code",
   "execution_count": 334,
   "metadata": {},
   "outputs": [],
   "source": [
    "ANT = Non_EPL_Test_Data[redef_feature_cols]"
   ]
  },
  {
   "cell_type": "code",
   "execution_count": 335,
   "metadata": {},
   "outputs": [
    {
     "name": "stdout",
     "output_type": "stream",
     "text": [
      "[44.38925298 44.12749486 43.76761622]\n"
     ]
    }
   ],
   "source": [
    "y_prediction = linreg.predict(ANT)\n",
    "print(y_prediction)\n",
    "# The model predicts their market values as 44.3, 44.1, and 43.7"
   ]
  },
  {
   "cell_type": "code",
   "execution_count": 222,
   "metadata": {},
   "outputs": [
    {
     "data": {
      "text/plain": [
       "6.507592190889371"
      ]
     },
     "execution_count": 222,
     "metadata": {},
     "output_type": "execute_result"
    }
   ],
   "source": [
    "# 30/461 * 100"
   ]
  },
  {
   "cell_type": "code",
   "execution_count": null,
   "metadata": {},
   "outputs": [],
   "source": [
    "#  Do High Market Value Possess the Factors Analyzed Above?\n",
    "\n",
    "# Here's a look at the actual players with the highest market value in the English Premier League\n",
    "# The top 30 players in the EPL with the highest market value are analyzed further to determine whether the \n",
    "# characteristics that comprise high market value players are present among these players\n",
    "# This top 30 player sample represents 6.5% of the total number of players in the data"
   ]
  },
  {
   "cell_type": "code",
   "execution_count": 228,
   "metadata": {},
   "outputs": [
    {
     "data": {
      "text/html": [
       "<div>\n",
       "<style scoped>\n",
       "    .dataframe tbody tr th:only-of-type {\n",
       "        vertical-align: middle;\n",
       "    }\n",
       "\n",
       "    .dataframe tbody tr th {\n",
       "        vertical-align: top;\n",
       "    }\n",
       "\n",
       "    .dataframe thead th {\n",
       "        text-align: right;\n",
       "    }\n",
       "</style>\n",
       "<table border=\"1\" class=\"dataframe\">\n",
       "  <thead>\n",
       "    <tr style=\"text-align: right;\">\n",
       "      <th></th>\n",
       "      <th>name</th>\n",
       "      <th>age</th>\n",
       "      <th>age_cat</th>\n",
       "      <th>fpl_points</th>\n",
       "      <th>position_cat</th>\n",
       "      <th>region</th>\n",
       "      <th>big_club</th>\n",
       "      <th>market_value</th>\n",
       "    </tr>\n",
       "  </thead>\n",
       "  <tbody>\n",
       "    <tr>\n",
       "      <th>92</th>\n",
       "      <td>Eden Hazard</td>\n",
       "      <td>26</td>\n",
       "      <td>3</td>\n",
       "      <td>224</td>\n",
       "      <td>1</td>\n",
       "      <td>2.0</td>\n",
       "      <td>1</td>\n",
       "      <td>75.0</td>\n",
       "    </tr>\n",
       "    <tr>\n",
       "      <th>263</th>\n",
       "      <td>Paul Pogba</td>\n",
       "      <td>24</td>\n",
       "      <td>2</td>\n",
       "      <td>115</td>\n",
       "      <td>2</td>\n",
       "      <td>2.0</td>\n",
       "      <td>1</td>\n",
       "      <td>75.0</td>\n",
       "    </tr>\n",
       "    <tr>\n",
       "      <th>0</th>\n",
       "      <td>Alexis Sanchez</td>\n",
       "      <td>28</td>\n",
       "      <td>4</td>\n",
       "      <td>264</td>\n",
       "      <td>1</td>\n",
       "      <td>3.0</td>\n",
       "      <td>1</td>\n",
       "      <td>65.0</td>\n",
       "    </tr>\n",
       "    <tr>\n",
       "      <th>240</th>\n",
       "      <td>Kevin De Bruyne</td>\n",
       "      <td>26</td>\n",
       "      <td>3</td>\n",
       "      <td>199</td>\n",
       "      <td>1</td>\n",
       "      <td>2.0</td>\n",
       "      <td>1</td>\n",
       "      <td>65.0</td>\n",
       "    </tr>\n",
       "    <tr>\n",
       "      <th>241</th>\n",
       "      <td>Sergio Aguero</td>\n",
       "      <td>29</td>\n",
       "      <td>4</td>\n",
       "      <td>175</td>\n",
       "      <td>1</td>\n",
       "      <td>3.0</td>\n",
       "      <td>1</td>\n",
       "      <td>65.0</td>\n",
       "    </tr>\n",
       "    <tr>\n",
       "      <th>377</th>\n",
       "      <td>Harry Kane</td>\n",
       "      <td>23</td>\n",
       "      <td>2</td>\n",
       "      <td>224</td>\n",
       "      <td>1</td>\n",
       "      <td>1.0</td>\n",
       "      <td>1</td>\n",
       "      <td>60.0</td>\n",
       "    </tr>\n",
       "    <tr>\n",
       "      <th>93</th>\n",
       "      <td>Diego Costa</td>\n",
       "      <td>28</td>\n",
       "      <td>4</td>\n",
       "      <td>196</td>\n",
       "      <td>1</td>\n",
       "      <td>2.0</td>\n",
       "      <td>1</td>\n",
       "      <td>50.0</td>\n",
       "    </tr>\n",
       "    <tr>\n",
       "      <th>104</th>\n",
       "      <td>N%27Golo Kante</td>\n",
       "      <td>26</td>\n",
       "      <td>3</td>\n",
       "      <td>83</td>\n",
       "      <td>2</td>\n",
       "      <td>2.0</td>\n",
       "      <td>1</td>\n",
       "      <td>50.0</td>\n",
       "    </tr>\n",
       "    <tr>\n",
       "      <th>1</th>\n",
       "      <td>Mesut Ozil</td>\n",
       "      <td>28</td>\n",
       "      <td>4</td>\n",
       "      <td>167</td>\n",
       "      <td>1</td>\n",
       "      <td>2.0</td>\n",
       "      <td>1</td>\n",
       "      <td>50.0</td>\n",
       "    </tr>\n",
       "    <tr>\n",
       "      <th>260</th>\n",
       "      <td>Romelu Lukaku</td>\n",
       "      <td>24</td>\n",
       "      <td>2</td>\n",
       "      <td>221</td>\n",
       "      <td>1</td>\n",
       "      <td>2.0</td>\n",
       "      <td>1</td>\n",
       "      <td>50.0</td>\n",
       "    </tr>\n",
       "    <tr>\n",
       "      <th>376</th>\n",
       "      <td>Dele Alli</td>\n",
       "      <td>21</td>\n",
       "      <td>1</td>\n",
       "      <td>225</td>\n",
       "      <td>2</td>\n",
       "      <td>1.0</td>\n",
       "      <td>1</td>\n",
       "      <td>45.0</td>\n",
       "    </tr>\n",
       "    <tr>\n",
       "      <th>242</th>\n",
       "      <td>Raheem Sterling</td>\n",
       "      <td>22</td>\n",
       "      <td>2</td>\n",
       "      <td>149</td>\n",
       "      <td>1</td>\n",
       "      <td>1.0</td>\n",
       "      <td>1</td>\n",
       "      <td>45.0</td>\n",
       "    </tr>\n",
       "    <tr>\n",
       "      <th>214</th>\n",
       "      <td>Philippe Coutinho</td>\n",
       "      <td>25</td>\n",
       "      <td>3</td>\n",
       "      <td>171</td>\n",
       "      <td>1</td>\n",
       "      <td>3.0</td>\n",
       "      <td>1</td>\n",
       "      <td>45.0</td>\n",
       "    </tr>\n",
       "    <tr>\n",
       "      <th>261</th>\n",
       "      <td>David de Gea</td>\n",
       "      <td>26</td>\n",
       "      <td>3</td>\n",
       "      <td>136</td>\n",
       "      <td>4</td>\n",
       "      <td>2.0</td>\n",
       "      <td>1</td>\n",
       "      <td>40.0</td>\n",
       "    </tr>\n",
       "    <tr>\n",
       "      <th>378</th>\n",
       "      <td>Christian Eriksen</td>\n",
       "      <td>25</td>\n",
       "      <td>3</td>\n",
       "      <td>218</td>\n",
       "      <td>1</td>\n",
       "      <td>2.0</td>\n",
       "      <td>1</td>\n",
       "      <td>40.0</td>\n",
       "    </tr>\n",
       "    <tr>\n",
       "      <th>259</th>\n",
       "      <td>Bernardo Silva</td>\n",
       "      <td>22</td>\n",
       "      <td>2</td>\n",
       "      <td>0</td>\n",
       "      <td>1</td>\n",
       "      <td>2.0</td>\n",
       "      <td>1</td>\n",
       "      <td>40.0</td>\n",
       "    </tr>\n",
       "    <tr>\n",
       "      <th>215</th>\n",
       "      <td>Sadio Mane</td>\n",
       "      <td>25</td>\n",
       "      <td>3</td>\n",
       "      <td>156</td>\n",
       "      <td>1</td>\n",
       "      <td>4.0</td>\n",
       "      <td>1</td>\n",
       "      <td>40.0</td>\n",
       "    </tr>\n",
       "    <tr>\n",
       "      <th>27</th>\n",
       "      <td>Alexandre Lacazette</td>\n",
       "      <td>26</td>\n",
       "      <td>3</td>\n",
       "      <td>0</td>\n",
       "      <td>1</td>\n",
       "      <td>2.0</td>\n",
       "      <td>1</td>\n",
       "      <td>40.0</td>\n",
       "    </tr>\n",
       "    <tr>\n",
       "      <th>98</th>\n",
       "      <td>Thibaut Courtois</td>\n",
       "      <td>25</td>\n",
       "      <td>3</td>\n",
       "      <td>141</td>\n",
       "      <td>4</td>\n",
       "      <td>2.0</td>\n",
       "      <td>1</td>\n",
       "      <td>40.0</td>\n",
       "    </tr>\n",
       "    <tr>\n",
       "      <th>213</th>\n",
       "      <td>Roberto Firmino</td>\n",
       "      <td>25</td>\n",
       "      <td>3</td>\n",
       "      <td>180</td>\n",
       "      <td>1</td>\n",
       "      <td>3.0</td>\n",
       "      <td>1</td>\n",
       "      <td>38.0</td>\n",
       "    </tr>\n",
       "    <tr>\n",
       "      <th>100</th>\n",
       "      <td>Cesc Fabregas</td>\n",
       "      <td>30</td>\n",
       "      <td>4</td>\n",
       "      <td>121</td>\n",
       "      <td>2</td>\n",
       "      <td>2.0</td>\n",
       "      <td>1</td>\n",
       "      <td>35.0</td>\n",
       "    </tr>\n",
       "    <tr>\n",
       "      <th>271</th>\n",
       "      <td>Henrikh Mkhitaryan</td>\n",
       "      <td>28</td>\n",
       "      <td>4</td>\n",
       "      <td>73</td>\n",
       "      <td>1</td>\n",
       "      <td>4.0</td>\n",
       "      <td>1</td>\n",
       "      <td>35.0</td>\n",
       "    </tr>\n",
       "    <tr>\n",
       "      <th>382</th>\n",
       "      <td>Toby Alderweireld</td>\n",
       "      <td>28</td>\n",
       "      <td>4</td>\n",
       "      <td>120</td>\n",
       "      <td>3</td>\n",
       "      <td>2.0</td>\n",
       "      <td>1</td>\n",
       "      <td>35.0</td>\n",
       "    </tr>\n",
       "    <tr>\n",
       "      <th>13</th>\n",
       "      <td>Aaron Ramsey</td>\n",
       "      <td>26</td>\n",
       "      <td>3</td>\n",
       "      <td>56</td>\n",
       "      <td>2</td>\n",
       "      <td>1.0</td>\n",
       "      <td>1</td>\n",
       "      <td>35.0</td>\n",
       "    </tr>\n",
       "    <tr>\n",
       "      <th>245</th>\n",
       "      <td>Leroy Sane</td>\n",
       "      <td>21</td>\n",
       "      <td>1</td>\n",
       "      <td>105</td>\n",
       "      <td>1</td>\n",
       "      <td>2.0</td>\n",
       "      <td>1</td>\n",
       "      <td>35.0</td>\n",
       "    </tr>\n",
       "    <tr>\n",
       "      <th>237</th>\n",
       "      <td>Mohamed Salah</td>\n",
       "      <td>25</td>\n",
       "      <td>3</td>\n",
       "      <td>0</td>\n",
       "      <td>1</td>\n",
       "      <td>4.0</td>\n",
       "      <td>1</td>\n",
       "      <td>35.0</td>\n",
       "    </tr>\n",
       "    <tr>\n",
       "      <th>103</th>\n",
       "      <td>Nemanja Matic</td>\n",
       "      <td>28</td>\n",
       "      <td>4</td>\n",
       "      <td>105</td>\n",
       "      <td>2</td>\n",
       "      <td>2.0</td>\n",
       "      <td>1</td>\n",
       "      <td>35.0</td>\n",
       "    </tr>\n",
       "    <tr>\n",
       "      <th>10</th>\n",
       "      <td>Granit Xhaka</td>\n",
       "      <td>24</td>\n",
       "      <td>2</td>\n",
       "      <td>85</td>\n",
       "      <td>2</td>\n",
       "      <td>2.0</td>\n",
       "      <td>1</td>\n",
       "      <td>35.0</td>\n",
       "    </tr>\n",
       "    <tr>\n",
       "      <th>252</th>\n",
       "      <td>John Stones</td>\n",
       "      <td>23</td>\n",
       "      <td>2</td>\n",
       "      <td>59</td>\n",
       "      <td>3</td>\n",
       "      <td>1.0</td>\n",
       "      <td>1</td>\n",
       "      <td>35.0</td>\n",
       "    </tr>\n",
       "    <tr>\n",
       "      <th>101</th>\n",
       "      <td>Willian</td>\n",
       "      <td>28</td>\n",
       "      <td>4</td>\n",
       "      <td>114</td>\n",
       "      <td>1</td>\n",
       "      <td>3.0</td>\n",
       "      <td>1</td>\n",
       "      <td>32.0</td>\n",
       "    </tr>\n",
       "  </tbody>\n",
       "</table>\n",
       "</div>"
      ],
      "text/plain": [
       "                    name  age  age_cat  fpl_points  position_cat  region  \\\n",
       "92           Eden Hazard   26        3         224             1     2.0   \n",
       "263           Paul Pogba   24        2         115             2     2.0   \n",
       "0         Alexis Sanchez   28        4         264             1     3.0   \n",
       "240      Kevin De Bruyne   26        3         199             1     2.0   \n",
       "241        Sergio Aguero   29        4         175             1     3.0   \n",
       "377           Harry Kane   23        2         224             1     1.0   \n",
       "93           Diego Costa   28        4         196             1     2.0   \n",
       "104       N%27Golo Kante   26        3          83             2     2.0   \n",
       "1             Mesut Ozil   28        4         167             1     2.0   \n",
       "260        Romelu Lukaku   24        2         221             1     2.0   \n",
       "376            Dele Alli   21        1         225             2     1.0   \n",
       "242      Raheem Sterling   22        2         149             1     1.0   \n",
       "214    Philippe Coutinho   25        3         171             1     3.0   \n",
       "261         David de Gea   26        3         136             4     2.0   \n",
       "378    Christian Eriksen   25        3         218             1     2.0   \n",
       "259       Bernardo Silva   22        2           0             1     2.0   \n",
       "215           Sadio Mane   25        3         156             1     4.0   \n",
       "27   Alexandre Lacazette   26        3           0             1     2.0   \n",
       "98      Thibaut Courtois   25        3         141             4     2.0   \n",
       "213      Roberto Firmino   25        3         180             1     3.0   \n",
       "100        Cesc Fabregas   30        4         121             2     2.0   \n",
       "271   Henrikh Mkhitaryan   28        4          73             1     4.0   \n",
       "382    Toby Alderweireld   28        4         120             3     2.0   \n",
       "13          Aaron Ramsey   26        3          56             2     1.0   \n",
       "245           Leroy Sane   21        1         105             1     2.0   \n",
       "237        Mohamed Salah   25        3           0             1     4.0   \n",
       "103        Nemanja Matic   28        4         105             2     2.0   \n",
       "10          Granit Xhaka   24        2          85             2     2.0   \n",
       "252          John Stones   23        2          59             3     1.0   \n",
       "101              Willian   28        4         114             1     3.0   \n",
       "\n",
       "     big_club  market_value  \n",
       "92          1          75.0  \n",
       "263         1          75.0  \n",
       "0           1          65.0  \n",
       "240         1          65.0  \n",
       "241         1          65.0  \n",
       "377         1          60.0  \n",
       "93          1          50.0  \n",
       "104         1          50.0  \n",
       "1           1          50.0  \n",
       "260         1          50.0  \n",
       "376         1          45.0  \n",
       "242         1          45.0  \n",
       "214         1          45.0  \n",
       "261         1          40.0  \n",
       "378         1          40.0  \n",
       "259         1          40.0  \n",
       "215         1          40.0  \n",
       "27          1          40.0  \n",
       "98          1          40.0  \n",
       "213         1          38.0  \n",
       "100         1          35.0  \n",
       "271         1          35.0  \n",
       "382         1          35.0  \n",
       "13          1          35.0  \n",
       "245         1          35.0  \n",
       "237         1          35.0  \n",
       "103         1          35.0  \n",
       "10          1          35.0  \n",
       "252         1          35.0  \n",
       "101         1          32.0  "
      ]
     },
     "execution_count": 228,
     "metadata": {},
     "output_type": "execute_result"
    }
   ],
   "source": [
    "epldata[['name','age','age_cat','fpl_points','position_cat','region','big_club','market_value']].sort_values(by='market_value',ascending=False).head(30)"
   ]
  },
  {
   "cell_type": "code",
   "execution_count": 315,
   "metadata": {},
   "outputs": [
    {
     "data": {
      "text/plain": [
       "9.9375"
      ]
     },
     "execution_count": 315,
     "metadata": {},
     "output_type": "execute_result"
    }
   ],
   "source": [
    "epldata.sort_values(by='market_value', ascending=False).head(8).fpl_value.mean()\n",
    "# This value was computed to use as an average for fpl_value for the non EPL players I entered into the dataset"
   ]
  },
  {
   "cell_type": "code",
   "execution_count": 229,
   "metadata": {},
   "outputs": [],
   "source": [
    "Final_Table = epldata[['name','age','age_cat','fpl_points','position_cat','region','big_club','market_value']].sort_values(by='market_value', ascending=False).head(30)"
   ]
  },
  {
   "cell_type": "code",
   "execution_count": 198,
   "metadata": {},
   "outputs": [
    {
     "data": {
      "text/plain": [
       "25.5"
      ]
     },
     "execution_count": 198,
     "metadata": {},
     "output_type": "execute_result"
    }
   ],
   "source": [
    "Final_Table.age.median()\n",
    "# The top 30 players in terms of market value have an average age of 25.5; this falls under age category 3, 25-27.\n",
    "# This age range, along with age range 2 (22-24) have the players with the highest value. Age range 2 has an average\n",
    "# value of 14 million pounds and age range 3 has an average value of just under 14 million pounds"
   ]
  },
  {
   "cell_type": "code",
   "execution_count": 203,
   "metadata": {},
   "outputs": [
    {
     "data": {
      "text/plain": [
       "3    12\n",
       "4     9\n",
       "2     7\n",
       "1     2\n",
       "Name: age_cat, dtype: int64"
      ]
     },
     "execution_count": 203,
     "metadata": {},
     "output_type": "execute_result"
    }
   ],
   "source": [
    "Final_Table.age_cat.value_counts().head()\n",
    "# 1 for <21\n",
    "# 2 for 22-24\n",
    "# 3 for 25-27\n",
    "# 4 for 28-30\n",
    "# 5 for 31-33\n",
    "# 6 for 34+"
   ]
  },
  {
   "cell_type": "code",
   "execution_count": 306,
   "metadata": {},
   "outputs": [
    {
     "data": {
      "text/plain": [
       "136.06666666666666"
      ]
     },
     "execution_count": 306,
     "metadata": {},
     "output_type": "execute_result"
    }
   ],
   "source": [
    "Final_Table.fpl_points.mean()\n",
    "# The average fpl_points for the top 30 most highly valued players is more than double the average fpl_points in the \n",
    "# English Premier League. For all 461 players, the average fpl_points tally is 57.3"
   ]
  },
  {
   "cell_type": "code",
   "execution_count": 197,
   "metadata": {},
   "outputs": [
    {
     "data": {
      "text/plain": [
       "1    19\n",
       "2     7\n",
       "4     2\n",
       "3     2\n",
       "Name: position_cat, dtype: int64"
      ]
     },
     "execution_count": 197,
     "metadata": {},
     "output_type": "execute_result"
    }
   ],
   "source": [
    "Final_Table.position_cat.value_counts().head()\n",
    "# 1 for forwards\n",
    "# 2 for midfielders\n",
    "# 3 for defenders\n",
    "# 4 for goal keepers\n",
    "# On average, forwards have the highest market value (just over 14 million); they are followed by midfielders \n",
    "# (11 million), defenders (8 million), and lastly goal keepers (7 million). In this sample of the top 30 most valuable\n",
    "# players, 19 are forwards and 7 are midfielders; this shows that attacking players are more valuable on average"
   ]
  },
  {
   "cell_type": "code",
   "execution_count": 196,
   "metadata": {},
   "outputs": [
    {
     "data": {
      "text/plain": [
       "2.0    17\n",
       "1.0     5\n",
       "3.0     5\n",
       "4.0     3\n",
       "Name: region, dtype: int64"
      ]
     },
     "execution_count": 196,
     "metadata": {},
     "output_type": "execute_result"
    }
   ],
   "source": [
    "Final_Table.region.value_counts().head() \n",
    "# 1 for England\n",
    "# 2 for EU\n",
    "# 3 for Americas\n",
    "# 4 for Rest of World\n",
    "# Players from the Americas have the highest market value on average (14 million), followed by Europe (12 million),\n",
    "# the rest of the world (11 million) and England (8 million)"
   ]
  },
  {
   "cell_type": "code",
   "execution_count": 199,
   "metadata": {},
   "outputs": [
    {
     "data": {
      "text/plain": [
       "1    30\n",
       "Name: big_club, dtype: int64"
      ]
     },
     "execution_count": 199,
     "metadata": {},
     "output_type": "execute_result"
    }
   ],
   "source": [
    "Final_Table.big_club.value_counts().head()\n",
    "# All 30 players possessing the highest market value play for the big 6 clubs in the English Premier League"
   ]
  },
  {
   "cell_type": "code",
   "execution_count": null,
   "metadata": {},
   "outputs": [],
   "source": [
    "# Limitations of Dataset & Potential Additional Avenues for Analysis:\n",
    "\n",
    "# There were 3 main limitations with this dataset as described below.\n",
    "# 1- No data on player stats such as goals, assists, tackles, interceptions etc to assess performance and its impact on\n",
    "#   market value; best inputs/factors closest to stats are fpl_points, fpl_sel, and fpl_value\n",
    "# 2- Dataset is a snapshot in time as it does not provide data over a 10 year period for example; this prevents trend \n",
    "#   analysis to analyze a player's market value over time for instance (e.g from the age of 20 to 30)\n",
    "# 3- Dataset is focused on English Premier League only; can't compare to other leagues. This means we can only infer\n",
    "#  these inputs influence market value the way they do only for players in the English Premier League e.g. do 'big\n",
    "#  clubs' have the same clout, financial strength, and popularity in other leagues?\n",
    "\n",
    "# If I had the additional relevant data, I would conduct further analysis on player statistics, the relationship of a \n",
    "# player's market value with their age (over a 10 year time period for instance), and conduct similar analysis for \n",
    "# other leagues (La Liga in Spain, Serie A in Italy, Bundesliga in Germany) to determine what drives market value in \n",
    "# those leagues and if the factors are similar to those found to be driving market value in the EPL"
   ]
  },
  {
   "cell_type": "code",
   "execution_count": null,
   "metadata": {},
   "outputs": [],
   "source": [
    "# Recommendations:\n",
    "# Focus on Europe and the Americas to find talent\n",
    "# Target forwards and midfielders as they have the highest market value on average\n",
    "# When calculating market value, fpl_value (performance) and big_club are the significant input variables\n",
    "# For smaller clubs looking to make a profit on players, sell at age range of 22-24 as that is when market value is \n",
    "# at its highest\n"
   ]
  },
  {
   "cell_type": "code",
   "execution_count": null,
   "metadata": {},
   "outputs": [],
   "source": []
  }
 ],
 "metadata": {
  "kernelspec": {
   "display_name": "Python 3",
   "language": "python",
   "name": "python3"
  },
  "language_info": {
   "codemirror_mode": {
    "name": "ipython",
    "version": 3
   },
   "file_extension": ".py",
   "mimetype": "text/x-python",
   "name": "python",
   "nbconvert_exporter": "python",
   "pygments_lexer": "ipython3",
   "version": "3.6.6"
  }
 },
 "nbformat": 4,
 "nbformat_minor": 2
}
